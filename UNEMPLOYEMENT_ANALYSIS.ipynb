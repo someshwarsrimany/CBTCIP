{
 "cells": [
  {
   "cell_type": "markdown",
   "metadata": {
    "id": "c_uVrBVClWSA"
   },
   "source": [
    "# **UNEMPLOYEMENT ANALYSIS**"
   ]
  },
  {
   "cell_type": "markdown",
   "metadata": {
    "id": "WB_Qth3plnMX"
   },
   "source": [
    "### **Load Necessary Libraries**"
   ]
  },
  {
   "cell_type": "code",
   "execution_count": 1,
   "metadata": {
    "id": "reKZFB_0lKNN"
   },
   "outputs": [],
   "source": [
    "import pandas as pd\n",
    "import numpy as np\n",
    "import matplotlib.pyplot as plt\n",
    "import seaborn as sns\n",
    "import plotly.express as px"
   ]
  },
  {
   "cell_type": "markdown",
   "metadata": {
    "id": "cFGsb8KDl1VN"
   },
   "source": [
    "### **Load DataSets**"
   ]
  },
  {
   "cell_type": "code",
   "execution_count": 2,
   "metadata": {
    "id": "VQqJSWSUl6Wr"
   },
   "outputs": [],
   "source": [
    "file1 = \"Unemployment_Rate_upto_11_2020 - Unemployment_Rate_upto_11_2020.csv\"\n",
    "file2 = \"Unemployment in India - Unemployment in India.csv\"\n",
    "\n",
    "df1 = pd.read_csv(file1)\n",
    "df2 = pd.read_csv(file2)"
   ]
  },
  {
   "cell_type": "markdown",
   "metadata": {
    "id": "bqyeBWEDl_vO"
   },
   "source": [
    "### **Explore The Dataset 1**"
   ]
  },
  {
   "cell_type": "code",
   "execution_count": 3,
   "metadata": {
    "colab": {
     "base_uri": "https://localhost:8080/",
     "height": 206
    },
    "id": "_XPhNo_QmN4m",
    "outputId": "38f78c21-9560-42c6-8722-028f75b6e724"
   },
   "outputs": [
    {
     "data": {
      "text/html": [
       "<div>\n",
       "<style scoped>\n",
       "    .dataframe tbody tr th:only-of-type {\n",
       "        vertical-align: middle;\n",
       "    }\n",
       "\n",
       "    .dataframe tbody tr th {\n",
       "        vertical-align: top;\n",
       "    }\n",
       "\n",
       "    .dataframe thead th {\n",
       "        text-align: right;\n",
       "    }\n",
       "</style>\n",
       "<table border=\"1\" class=\"dataframe\">\n",
       "  <thead>\n",
       "    <tr style=\"text-align: right;\">\n",
       "      <th></th>\n",
       "      <th>Region</th>\n",
       "      <th>Date</th>\n",
       "      <th>Frequency</th>\n",
       "      <th>Estimated Unemployment Rate (%)</th>\n",
       "      <th>Estimated Employed</th>\n",
       "      <th>Estimated Labour Participation Rate (%)</th>\n",
       "      <th>Region.1</th>\n",
       "      <th>Longitude</th>\n",
       "      <th>Latitude</th>\n",
       "    </tr>\n",
       "  </thead>\n",
       "  <tbody>\n",
       "    <tr>\n",
       "      <th>0</th>\n",
       "      <td>Andhra Pradesh</td>\n",
       "      <td>31-01-2020</td>\n",
       "      <td>M</td>\n",
       "      <td>5.48</td>\n",
       "      <td>16635535</td>\n",
       "      <td>41.02</td>\n",
       "      <td>South</td>\n",
       "      <td>15.9129</td>\n",
       "      <td>79.74</td>\n",
       "    </tr>\n",
       "    <tr>\n",
       "      <th>1</th>\n",
       "      <td>Andhra Pradesh</td>\n",
       "      <td>29-02-2020</td>\n",
       "      <td>M</td>\n",
       "      <td>5.83</td>\n",
       "      <td>16545652</td>\n",
       "      <td>40.90</td>\n",
       "      <td>South</td>\n",
       "      <td>15.9129</td>\n",
       "      <td>79.74</td>\n",
       "    </tr>\n",
       "    <tr>\n",
       "      <th>2</th>\n",
       "      <td>Andhra Pradesh</td>\n",
       "      <td>31-03-2020</td>\n",
       "      <td>M</td>\n",
       "      <td>5.79</td>\n",
       "      <td>15881197</td>\n",
       "      <td>39.18</td>\n",
       "      <td>South</td>\n",
       "      <td>15.9129</td>\n",
       "      <td>79.74</td>\n",
       "    </tr>\n",
       "    <tr>\n",
       "      <th>3</th>\n",
       "      <td>Andhra Pradesh</td>\n",
       "      <td>30-04-2020</td>\n",
       "      <td>M</td>\n",
       "      <td>20.51</td>\n",
       "      <td>11336911</td>\n",
       "      <td>33.10</td>\n",
       "      <td>South</td>\n",
       "      <td>15.9129</td>\n",
       "      <td>79.74</td>\n",
       "    </tr>\n",
       "    <tr>\n",
       "      <th>4</th>\n",
       "      <td>Andhra Pradesh</td>\n",
       "      <td>31-05-2020</td>\n",
       "      <td>M</td>\n",
       "      <td>17.43</td>\n",
       "      <td>12988845</td>\n",
       "      <td>36.46</td>\n",
       "      <td>South</td>\n",
       "      <td>15.9129</td>\n",
       "      <td>79.74</td>\n",
       "    </tr>\n",
       "  </tbody>\n",
       "</table>\n",
       "</div>"
      ],
      "text/plain": [
       "           Region        Date Frequency  Estimated Unemployment Rate (%)  \\\n",
       "0  Andhra Pradesh  31-01-2020         M                             5.48   \n",
       "1  Andhra Pradesh  29-02-2020         M                             5.83   \n",
       "2  Andhra Pradesh  31-03-2020         M                             5.79   \n",
       "3  Andhra Pradesh  30-04-2020         M                            20.51   \n",
       "4  Andhra Pradesh  31-05-2020         M                            17.43   \n",
       "\n",
       "   Estimated Employed  Estimated Labour Participation Rate (%) Region.1  \\\n",
       "0            16635535                                    41.02    South   \n",
       "1            16545652                                    40.90    South   \n",
       "2            15881197                                    39.18    South   \n",
       "3            11336911                                    33.10    South   \n",
       "4            12988845                                    36.46    South   \n",
       "\n",
       "   Longitude  Latitude  \n",
       "0    15.9129     79.74  \n",
       "1    15.9129     79.74  \n",
       "2    15.9129     79.74  \n",
       "3    15.9129     79.74  \n",
       "4    15.9129     79.74  "
      ]
     },
     "execution_count": 3,
     "metadata": {},
     "output_type": "execute_result"
    }
   ],
   "source": [
    "df1.head()"
   ]
  },
  {
   "cell_type": "code",
   "execution_count": 4,
   "metadata": {
    "colab": {
     "base_uri": "https://localhost:8080/"
    },
    "id": "WnZIPRg0nSTH",
    "outputId": "1ba134a8-a43e-4f01-9998-b569946f6656"
   },
   "outputs": [
    {
     "name": "stdout",
     "output_type": "stream",
     "text": [
      "<class 'pandas.core.frame.DataFrame'>\n",
      "RangeIndex: 267 entries, 0 to 266\n",
      "Data columns (total 9 columns):\n",
      " #   Column                                   Non-Null Count  Dtype  \n",
      "---  ------                                   --------------  -----  \n",
      " 0   Region                                   267 non-null    object \n",
      " 1   Date                                     267 non-null    object \n",
      " 2   Frequency                                267 non-null    object \n",
      " 3   Estimated Unemployment Rate (%)          267 non-null    float64\n",
      " 4   Estimated Employed                       267 non-null    int64  \n",
      " 5   Estimated Labour Participation Rate (%)  267 non-null    float64\n",
      " 6   Region.1                                 267 non-null    object \n",
      " 7   Longitude                                267 non-null    float64\n",
      " 8   Latitude                                 267 non-null    float64\n",
      "dtypes: float64(4), int64(1), object(4)\n",
      "memory usage: 18.9+ KB\n"
     ]
    }
   ],
   "source": [
    "df1.info()"
   ]
  },
  {
   "cell_type": "markdown",
   "metadata": {
    "id": "0kucNwdUnw2W"
   },
   "source": [
    "### **Formatting DataSet1**"
   ]
  },
  {
   "cell_type": "code",
   "execution_count": 5,
   "metadata": {
    "colab": {
     "base_uri": "https://localhost:8080/",
     "height": 206
    },
    "id": "G6LbN2Fon73U",
    "outputId": "6ea8e92a-5dd9-49cd-b1fa-9164a89d8277"
   },
   "outputs": [
    {
     "data": {
      "text/html": [
       "<div>\n",
       "<style scoped>\n",
       "    .dataframe tbody tr th:only-of-type {\n",
       "        vertical-align: middle;\n",
       "    }\n",
       "\n",
       "    .dataframe tbody tr th {\n",
       "        vertical-align: top;\n",
       "    }\n",
       "\n",
       "    .dataframe thead th {\n",
       "        text-align: right;\n",
       "    }\n",
       "</style>\n",
       "<table border=\"1\" class=\"dataframe\">\n",
       "  <thead>\n",
       "    <tr style=\"text-align: right;\">\n",
       "      <th></th>\n",
       "      <th>State</th>\n",
       "      <th>Date</th>\n",
       "      <th>Frequency</th>\n",
       "      <th>Estimated Unemployment Rate (%)</th>\n",
       "      <th>Estimated Employed</th>\n",
       "      <th>Estimated Labour Participation Rate (%)</th>\n",
       "      <th>Region</th>\n",
       "      <th>Longitude</th>\n",
       "      <th>Latitude</th>\n",
       "    </tr>\n",
       "  </thead>\n",
       "  <tbody>\n",
       "    <tr>\n",
       "      <th>0</th>\n",
       "      <td>Andhra Pradesh</td>\n",
       "      <td>31-01-2020</td>\n",
       "      <td>M</td>\n",
       "      <td>5.48</td>\n",
       "      <td>16635535</td>\n",
       "      <td>41.02</td>\n",
       "      <td>South</td>\n",
       "      <td>15.9129</td>\n",
       "      <td>79.74</td>\n",
       "    </tr>\n",
       "    <tr>\n",
       "      <th>1</th>\n",
       "      <td>Andhra Pradesh</td>\n",
       "      <td>29-02-2020</td>\n",
       "      <td>M</td>\n",
       "      <td>5.83</td>\n",
       "      <td>16545652</td>\n",
       "      <td>40.90</td>\n",
       "      <td>South</td>\n",
       "      <td>15.9129</td>\n",
       "      <td>79.74</td>\n",
       "    </tr>\n",
       "    <tr>\n",
       "      <th>2</th>\n",
       "      <td>Andhra Pradesh</td>\n",
       "      <td>31-03-2020</td>\n",
       "      <td>M</td>\n",
       "      <td>5.79</td>\n",
       "      <td>15881197</td>\n",
       "      <td>39.18</td>\n",
       "      <td>South</td>\n",
       "      <td>15.9129</td>\n",
       "      <td>79.74</td>\n",
       "    </tr>\n",
       "    <tr>\n",
       "      <th>3</th>\n",
       "      <td>Andhra Pradesh</td>\n",
       "      <td>30-04-2020</td>\n",
       "      <td>M</td>\n",
       "      <td>20.51</td>\n",
       "      <td>11336911</td>\n",
       "      <td>33.10</td>\n",
       "      <td>South</td>\n",
       "      <td>15.9129</td>\n",
       "      <td>79.74</td>\n",
       "    </tr>\n",
       "    <tr>\n",
       "      <th>4</th>\n",
       "      <td>Andhra Pradesh</td>\n",
       "      <td>31-05-2020</td>\n",
       "      <td>M</td>\n",
       "      <td>17.43</td>\n",
       "      <td>12988845</td>\n",
       "      <td>36.46</td>\n",
       "      <td>South</td>\n",
       "      <td>15.9129</td>\n",
       "      <td>79.74</td>\n",
       "    </tr>\n",
       "  </tbody>\n",
       "</table>\n",
       "</div>"
      ],
      "text/plain": [
       "            State        Date Frequency  Estimated Unemployment Rate (%)  \\\n",
       "0  Andhra Pradesh  31-01-2020         M                             5.48   \n",
       "1  Andhra Pradesh  29-02-2020         M                             5.83   \n",
       "2  Andhra Pradesh  31-03-2020         M                             5.79   \n",
       "3  Andhra Pradesh  30-04-2020         M                            20.51   \n",
       "4  Andhra Pradesh  31-05-2020         M                            17.43   \n",
       "\n",
       "   Estimated Employed  Estimated Labour Participation Rate (%) Region  \\\n",
       "0            16635535                                    41.02  South   \n",
       "1            16545652                                    40.90  South   \n",
       "2            15881197                                    39.18  South   \n",
       "3            11336911                                    33.10  South   \n",
       "4            12988845                                    36.46  South   \n",
       "\n",
       "   Longitude  Latitude  \n",
       "0    15.9129     79.74  \n",
       "1    15.9129     79.74  \n",
       "2    15.9129     79.74  \n",
       "3    15.9129     79.74  \n",
       "4    15.9129     79.74  "
      ]
     },
     "execution_count": 5,
     "metadata": {},
     "output_type": "execute_result"
    }
   ],
   "source": [
    "column_name_mapping1 = {\n",
    "    'Region': 'State',\n",
    "    'Region.1': 'Region'\n",
    "    }\n",
    "df1 = df1.rename(columns=column_name_mapping1)\n",
    "df1.head()"
   ]
  },
  {
   "cell_type": "code",
   "execution_count": 6,
   "metadata": {
    "colab": {
     "base_uri": "https://localhost:8080/",
     "height": 224
    },
    "id": "wT2HIsCwsqQ7",
    "outputId": "31fa0d4a-7e12-4265-8fe5-7e1cbdf9c9b4"
   },
   "outputs": [
    {
     "name": "stdout",
     "output_type": "stream",
     "text": [
      "Columns dropped :  ['Frequency']\n"
     ]
    },
    {
     "data": {
      "text/html": [
       "<div>\n",
       "<style scoped>\n",
       "    .dataframe tbody tr th:only-of-type {\n",
       "        vertical-align: middle;\n",
       "    }\n",
       "\n",
       "    .dataframe tbody tr th {\n",
       "        vertical-align: top;\n",
       "    }\n",
       "\n",
       "    .dataframe thead th {\n",
       "        text-align: right;\n",
       "    }\n",
       "</style>\n",
       "<table border=\"1\" class=\"dataframe\">\n",
       "  <thead>\n",
       "    <tr style=\"text-align: right;\">\n",
       "      <th></th>\n",
       "      <th>State</th>\n",
       "      <th>Date</th>\n",
       "      <th>Estimated Unemployment Rate (%)</th>\n",
       "      <th>Estimated Employed</th>\n",
       "      <th>Estimated Labour Participation Rate (%)</th>\n",
       "      <th>Region</th>\n",
       "      <th>Longitude</th>\n",
       "      <th>Latitude</th>\n",
       "    </tr>\n",
       "  </thead>\n",
       "  <tbody>\n",
       "    <tr>\n",
       "      <th>0</th>\n",
       "      <td>Andhra Pradesh</td>\n",
       "      <td>31-01-2020</td>\n",
       "      <td>5.48</td>\n",
       "      <td>16635535</td>\n",
       "      <td>41.02</td>\n",
       "      <td>South</td>\n",
       "      <td>15.9129</td>\n",
       "      <td>79.74</td>\n",
       "    </tr>\n",
       "    <tr>\n",
       "      <th>1</th>\n",
       "      <td>Andhra Pradesh</td>\n",
       "      <td>29-02-2020</td>\n",
       "      <td>5.83</td>\n",
       "      <td>16545652</td>\n",
       "      <td>40.90</td>\n",
       "      <td>South</td>\n",
       "      <td>15.9129</td>\n",
       "      <td>79.74</td>\n",
       "    </tr>\n",
       "    <tr>\n",
       "      <th>2</th>\n",
       "      <td>Andhra Pradesh</td>\n",
       "      <td>31-03-2020</td>\n",
       "      <td>5.79</td>\n",
       "      <td>15881197</td>\n",
       "      <td>39.18</td>\n",
       "      <td>South</td>\n",
       "      <td>15.9129</td>\n",
       "      <td>79.74</td>\n",
       "    </tr>\n",
       "    <tr>\n",
       "      <th>3</th>\n",
       "      <td>Andhra Pradesh</td>\n",
       "      <td>30-04-2020</td>\n",
       "      <td>20.51</td>\n",
       "      <td>11336911</td>\n",
       "      <td>33.10</td>\n",
       "      <td>South</td>\n",
       "      <td>15.9129</td>\n",
       "      <td>79.74</td>\n",
       "    </tr>\n",
       "    <tr>\n",
       "      <th>4</th>\n",
       "      <td>Andhra Pradesh</td>\n",
       "      <td>31-05-2020</td>\n",
       "      <td>17.43</td>\n",
       "      <td>12988845</td>\n",
       "      <td>36.46</td>\n",
       "      <td>South</td>\n",
       "      <td>15.9129</td>\n",
       "      <td>79.74</td>\n",
       "    </tr>\n",
       "  </tbody>\n",
       "</table>\n",
       "</div>"
      ],
      "text/plain": [
       "            State        Date  Estimated Unemployment Rate (%)  \\\n",
       "0  Andhra Pradesh  31-01-2020                             5.48   \n",
       "1  Andhra Pradesh  29-02-2020                             5.83   \n",
       "2  Andhra Pradesh  31-03-2020                             5.79   \n",
       "3  Andhra Pradesh  30-04-2020                            20.51   \n",
       "4  Andhra Pradesh  31-05-2020                            17.43   \n",
       "\n",
       "   Estimated Employed  Estimated Labour Participation Rate (%) Region  \\\n",
       "0            16635535                                    41.02  South   \n",
       "1            16545652                                    40.90  South   \n",
       "2            15881197                                    39.18  South   \n",
       "3            11336911                                    33.10  South   \n",
       "4            12988845                                    36.46  South   \n",
       "\n",
       "   Longitude  Latitude  \n",
       "0    15.9129     79.74  \n",
       "1    15.9129     79.74  \n",
       "2    15.9129     79.74  \n",
       "3    15.9129     79.74  \n",
       "4    15.9129     79.74  "
      ]
     },
     "execution_count": 6,
     "metadata": {},
     "output_type": "execute_result"
    }
   ],
   "source": [
    "columns_to_drop1 = []\n",
    "for column in df1.columns:\n",
    "    if df1[column].nunique() == 1:\n",
    "        columns_to_drop1.append(column)\n",
    "df1 = df1.drop(columns=columns_to_drop1)\n",
    "print(\"Columns dropped : \",columns_to_drop1)\n",
    "df1.head()"
   ]
  },
  {
   "cell_type": "markdown",
   "metadata": {
    "id": "EV3LM1_Ep2SQ"
   },
   "source": [
    "### **Explore The Dataset 2**"
   ]
  },
  {
   "cell_type": "code",
   "execution_count": 7,
   "metadata": {
    "colab": {
     "base_uri": "https://localhost:8080/",
     "height": 206
    },
    "id": "CjFLoYf6p2SX",
    "outputId": "5de1577d-ba88-4de2-c1e4-910725c52240"
   },
   "outputs": [
    {
     "data": {
      "text/html": [
       "<div>\n",
       "<style scoped>\n",
       "    .dataframe tbody tr th:only-of-type {\n",
       "        vertical-align: middle;\n",
       "    }\n",
       "\n",
       "    .dataframe tbody tr th {\n",
       "        vertical-align: top;\n",
       "    }\n",
       "\n",
       "    .dataframe thead th {\n",
       "        text-align: right;\n",
       "    }\n",
       "</style>\n",
       "<table border=\"1\" class=\"dataframe\">\n",
       "  <thead>\n",
       "    <tr style=\"text-align: right;\">\n",
       "      <th></th>\n",
       "      <th>Region</th>\n",
       "      <th>Date</th>\n",
       "      <th>Frequency</th>\n",
       "      <th>Estimated Unemployment Rate (%)</th>\n",
       "      <th>Estimated Employed</th>\n",
       "      <th>Estimated Labour Participation Rate (%)</th>\n",
       "      <th>Area</th>\n",
       "    </tr>\n",
       "  </thead>\n",
       "  <tbody>\n",
       "    <tr>\n",
       "      <th>0</th>\n",
       "      <td>Andhra Pradesh</td>\n",
       "      <td>31-05-2019</td>\n",
       "      <td>Monthly</td>\n",
       "      <td>3.65</td>\n",
       "      <td>11999139.0</td>\n",
       "      <td>43.24</td>\n",
       "      <td>Rural</td>\n",
       "    </tr>\n",
       "    <tr>\n",
       "      <th>1</th>\n",
       "      <td>Andhra Pradesh</td>\n",
       "      <td>30-06-2019</td>\n",
       "      <td>Monthly</td>\n",
       "      <td>3.05</td>\n",
       "      <td>11755881.0</td>\n",
       "      <td>42.05</td>\n",
       "      <td>Rural</td>\n",
       "    </tr>\n",
       "    <tr>\n",
       "      <th>2</th>\n",
       "      <td>Andhra Pradesh</td>\n",
       "      <td>31-07-2019</td>\n",
       "      <td>Monthly</td>\n",
       "      <td>3.75</td>\n",
       "      <td>12086707.0</td>\n",
       "      <td>43.50</td>\n",
       "      <td>Rural</td>\n",
       "    </tr>\n",
       "    <tr>\n",
       "      <th>3</th>\n",
       "      <td>Andhra Pradesh</td>\n",
       "      <td>31-08-2019</td>\n",
       "      <td>Monthly</td>\n",
       "      <td>3.32</td>\n",
       "      <td>12285693.0</td>\n",
       "      <td>43.97</td>\n",
       "      <td>Rural</td>\n",
       "    </tr>\n",
       "    <tr>\n",
       "      <th>4</th>\n",
       "      <td>Andhra Pradesh</td>\n",
       "      <td>30-09-2019</td>\n",
       "      <td>Monthly</td>\n",
       "      <td>5.17</td>\n",
       "      <td>12256762.0</td>\n",
       "      <td>44.68</td>\n",
       "      <td>Rural</td>\n",
       "    </tr>\n",
       "  </tbody>\n",
       "</table>\n",
       "</div>"
      ],
      "text/plain": [
       "           Region        Date Frequency  Estimated Unemployment Rate (%)  \\\n",
       "0  Andhra Pradesh  31-05-2019   Monthly                             3.65   \n",
       "1  Andhra Pradesh  30-06-2019   Monthly                             3.05   \n",
       "2  Andhra Pradesh  31-07-2019   Monthly                             3.75   \n",
       "3  Andhra Pradesh  31-08-2019   Monthly                             3.32   \n",
       "4  Andhra Pradesh  30-09-2019   Monthly                             5.17   \n",
       "\n",
       "   Estimated Employed  Estimated Labour Participation Rate (%)   Area  \n",
       "0          11999139.0                                    43.24  Rural  \n",
       "1          11755881.0                                    42.05  Rural  \n",
       "2          12086707.0                                    43.50  Rural  \n",
       "3          12285693.0                                    43.97  Rural  \n",
       "4          12256762.0                                    44.68  Rural  "
      ]
     },
     "execution_count": 7,
     "metadata": {},
     "output_type": "execute_result"
    }
   ],
   "source": [
    "df2.head()"
   ]
  },
  {
   "cell_type": "code",
   "execution_count": 8,
   "metadata": {
    "colab": {
     "base_uri": "https://localhost:8080/"
    },
    "id": "dPJbk5Aep2SX",
    "outputId": "54b12ffb-ee81-4a02-f2cc-129c6ff799b3"
   },
   "outputs": [
    {
     "name": "stdout",
     "output_type": "stream",
     "text": [
      "<class 'pandas.core.frame.DataFrame'>\n",
      "RangeIndex: 754 entries, 0 to 753\n",
      "Data columns (total 7 columns):\n",
      " #   Column                                   Non-Null Count  Dtype  \n",
      "---  ------                                   --------------  -----  \n",
      " 0   Region                                   740 non-null    object \n",
      " 1   Date                                     740 non-null    object \n",
      " 2   Frequency                                740 non-null    object \n",
      " 3   Estimated Unemployment Rate (%)          740 non-null    float64\n",
      " 4   Estimated Employed                       740 non-null    float64\n",
      " 5   Estimated Labour Participation Rate (%)  740 non-null    float64\n",
      " 6   Area                                     740 non-null    object \n",
      "dtypes: float64(3), object(4)\n",
      "memory usage: 41.4+ KB\n"
     ]
    }
   ],
   "source": [
    "df2.info()"
   ]
  },
  {
   "cell_type": "markdown",
   "metadata": {
    "id": "8ODHQqLqp_WB"
   },
   "source": [
    "### **Formatting DataSet2**"
   ]
  },
  {
   "cell_type": "code",
   "execution_count": 9,
   "metadata": {
    "colab": {
     "base_uri": "https://localhost:8080/",
     "height": 206
    },
    "id": "pUKE03STp_WH",
    "outputId": "4a776707-6372-4625-c054-a4f0f9aa8b3f"
   },
   "outputs": [
    {
     "data": {
      "text/html": [
       "<div>\n",
       "<style scoped>\n",
       "    .dataframe tbody tr th:only-of-type {\n",
       "        vertical-align: middle;\n",
       "    }\n",
       "\n",
       "    .dataframe tbody tr th {\n",
       "        vertical-align: top;\n",
       "    }\n",
       "\n",
       "    .dataframe thead th {\n",
       "        text-align: right;\n",
       "    }\n",
       "</style>\n",
       "<table border=\"1\" class=\"dataframe\">\n",
       "  <thead>\n",
       "    <tr style=\"text-align: right;\">\n",
       "      <th></th>\n",
       "      <th>State</th>\n",
       "      <th>Date</th>\n",
       "      <th>Frequency</th>\n",
       "      <th>Estimated Unemployment Rate (%)</th>\n",
       "      <th>Estimated Employed</th>\n",
       "      <th>Estimated Labour Participation Rate (%)</th>\n",
       "      <th>Area(Urban/Rural)</th>\n",
       "    </tr>\n",
       "  </thead>\n",
       "  <tbody>\n",
       "    <tr>\n",
       "      <th>0</th>\n",
       "      <td>Andhra Pradesh</td>\n",
       "      <td>31-05-2019</td>\n",
       "      <td>Monthly</td>\n",
       "      <td>3.65</td>\n",
       "      <td>11999139.0</td>\n",
       "      <td>43.24</td>\n",
       "      <td>Rural</td>\n",
       "    </tr>\n",
       "    <tr>\n",
       "      <th>1</th>\n",
       "      <td>Andhra Pradesh</td>\n",
       "      <td>30-06-2019</td>\n",
       "      <td>Monthly</td>\n",
       "      <td>3.05</td>\n",
       "      <td>11755881.0</td>\n",
       "      <td>42.05</td>\n",
       "      <td>Rural</td>\n",
       "    </tr>\n",
       "    <tr>\n",
       "      <th>2</th>\n",
       "      <td>Andhra Pradesh</td>\n",
       "      <td>31-07-2019</td>\n",
       "      <td>Monthly</td>\n",
       "      <td>3.75</td>\n",
       "      <td>12086707.0</td>\n",
       "      <td>43.50</td>\n",
       "      <td>Rural</td>\n",
       "    </tr>\n",
       "    <tr>\n",
       "      <th>3</th>\n",
       "      <td>Andhra Pradesh</td>\n",
       "      <td>31-08-2019</td>\n",
       "      <td>Monthly</td>\n",
       "      <td>3.32</td>\n",
       "      <td>12285693.0</td>\n",
       "      <td>43.97</td>\n",
       "      <td>Rural</td>\n",
       "    </tr>\n",
       "    <tr>\n",
       "      <th>4</th>\n",
       "      <td>Andhra Pradesh</td>\n",
       "      <td>30-09-2019</td>\n",
       "      <td>Monthly</td>\n",
       "      <td>5.17</td>\n",
       "      <td>12256762.0</td>\n",
       "      <td>44.68</td>\n",
       "      <td>Rural</td>\n",
       "    </tr>\n",
       "  </tbody>\n",
       "</table>\n",
       "</div>"
      ],
      "text/plain": [
       "            State        Date Frequency  Estimated Unemployment Rate (%)  \\\n",
       "0  Andhra Pradesh  31-05-2019   Monthly                             3.65   \n",
       "1  Andhra Pradesh  30-06-2019   Monthly                             3.05   \n",
       "2  Andhra Pradesh  31-07-2019   Monthly                             3.75   \n",
       "3  Andhra Pradesh  31-08-2019   Monthly                             3.32   \n",
       "4  Andhra Pradesh  30-09-2019   Monthly                             5.17   \n",
       "\n",
       "   Estimated Employed  Estimated Labour Participation Rate (%)  \\\n",
       "0          11999139.0                                    43.24   \n",
       "1          11755881.0                                    42.05   \n",
       "2          12086707.0                                    43.50   \n",
       "3          12285693.0                                    43.97   \n",
       "4          12256762.0                                    44.68   \n",
       "\n",
       "  Area(Urban/Rural)  \n",
       "0             Rural  \n",
       "1             Rural  \n",
       "2             Rural  \n",
       "3             Rural  \n",
       "4             Rural  "
      ]
     },
     "execution_count": 9,
     "metadata": {},
     "output_type": "execute_result"
    }
   ],
   "source": [
    "column_name_mapping2 = {\n",
    "    'Region': 'State',\n",
    "    'Area': 'Area(Urban/Rural)'\n",
    "    }\n",
    "df2 = df2.rename(columns=column_name_mapping2)\n",
    "df2.head()"
   ]
  },
  {
   "cell_type": "code",
   "execution_count": null,
   "metadata": {
    "colab": {
     "base_uri": "https://localhost:8080/",
     "height": 224
    },
    "id": "PRDZBhwDtBSH",
    "outputId": "d0eddc09-e297-41ca-a575-03edf4f0e482"
   },
   "outputs": [],
   "source": [
    "columns_to_drop2 = []\n",
    "for column in df2.columns:\n",
    "    if df2[column].nunique() == 1:\n",
    "        columns_to_drop2.append(column)\n",
    "df2 = df2.drop(columns=columns_to_drop2)\n",
    "print(\"Columns dropped : \",columns_to_drop2)\n",
    "df2.head()"
   ]
  },
  {
   "cell_type": "markdown",
   "metadata": {
    "id": "WTLTcA2Bqpax"
   },
   "source": [
    "### **Merge the two datasets based on common columns**"
   ]
  },
  {
   "cell_type": "code",
   "execution_count": null,
   "metadata": {
    "id": "HC_BY-STqrLA"
   },
   "outputs": [],
   "source": [
    "merged_df = pd.merge(df1, df2, on=['State', 'Date','Estimated Unemployment Rate (%)','Estimated Employed','Estimated Labour Participation Rate (%)'],how='outer')"
   ]
  },
  {
   "cell_type": "markdown",
   "metadata": {
    "id": "vAh5moU6q2yC"
   },
   "source": [
    "### **Explore the merged dataset**"
   ]
  },
  {
   "cell_type": "code",
   "execution_count": null,
   "metadata": {
    "colab": {
     "base_uri": "https://localhost:8080/",
     "height": 206
    },
    "id": "hUv6bmOdq8XS",
    "outputId": "ef0d1591-bc02-4282-e52b-92377889c526"
   },
   "outputs": [],
   "source": [
    "merged_df.head()"
   ]
  },
  {
   "cell_type": "code",
   "execution_count": null,
   "metadata": {
    "colab": {
     "base_uri": "https://localhost:8080/"
    },
    "id": "gK_T9cTXq_AR",
    "outputId": "fde9a00d-4399-433a-de39-e7ed0c03883a"
   },
   "outputs": [],
   "source": [
    "merged_df.info()"
   ]
  },
  {
   "cell_type": "markdown",
   "metadata": {
    "id": "58JdFYdABz_7"
   },
   "source": [
    "### **Some Statistical Analysis**"
   ]
  },
  {
   "cell_type": "code",
   "execution_count": null,
   "metadata": {
    "colab": {
     "base_uri": "https://localhost:8080/"
    },
    "id": "PDKIIlCtB5Ib",
    "outputId": "4c0cd173-cdba-44d3-befa-7ca234beb9a1"
   },
   "outputs": [],
   "source": [
    "merged_df['Estimated Unemployment Rate (%)'].describe()"
   ]
  },
  {
   "cell_type": "code",
   "execution_count": null,
   "metadata": {
    "colab": {
     "base_uri": "https://localhost:8080/",
     "height": 927
    },
    "id": "Rc_AOZIuCN15",
    "outputId": "e3cf77e0-f264-4a11-e45f-61ed942a328d"
   },
   "outputs": [],
   "source": [
    "merged_df.groupby('State')['Estimated Unemployment Rate (%)'].mean().reset_index()"
   ]
  },
  {
   "cell_type": "markdown",
   "metadata": {
    "id": "rALo1iDauzfr"
   },
   "source": [
    "### **Histograms for unemployment rates Statewise**"
   ]
  },
  {
   "cell_type": "code",
   "execution_count": null,
   "metadata": {
    "colab": {
     "base_uri": "https://localhost:8080/",
     "height": 872
    },
    "id": "j8ITfxkPu2WC",
    "outputId": "38bc15df-975c-4fb4-ddcc-fba04e931973"
   },
   "outputs": [],
   "source": [
    "plt.figure(figsize=(15, 10))\n",
    "plt.title(\"Unemployment In India Statewise\")\n",
    "sns.histplot(x=\"Estimated Unemployment Rate (%)\",hue=\"State\",data=merged_df)\n",
    "plt.show()"
   ]
  },
  {
   "cell_type": "markdown",
   "metadata": {
    "id": "83IP9STN3TCM"
   },
   "source": [
    "### **Histograms for unemployment rates Regionwise**"
   ]
  },
  {
   "cell_type": "code",
   "execution_count": null,
   "metadata": {
    "colab": {
     "base_uri": "https://localhost:8080/",
     "height": 872
    },
    "id": "uWKFXNM73TCS",
    "outputId": "d2cb116b-8a67-4150-9780-c6cad072bb20"
   },
   "outputs": [],
   "source": [
    "plt.figure(figsize=(15, 10))\n",
    "plt.title(\"Unemployment In India Regionwise\")\n",
    "sns.histplot(x=\"Estimated Unemployment Rate (%)\",hue=\"Region\",data=merged_df)\n",
    "plt.show()"
   ]
  },
  {
   "cell_type": "markdown",
   "metadata": {
    "id": "mpAn6hpd3f93"
   },
   "source": [
    "### **Histograms for unemployment rates Areawise**"
   ]
  },
  {
   "cell_type": "code",
   "execution_count": null,
   "metadata": {
    "colab": {
     "base_uri": "https://localhost:8080/",
     "height": 872
    },
    "id": "8aK0-fYx3f94",
    "outputId": "c3fdc6e2-7378-4a4f-efaa-ea1ccccc46df"
   },
   "outputs": [],
   "source": [
    "plt.figure(figsize=(15, 10))\n",
    "plt.title(\"Unemployment In India Areawise\")\n",
    "sns.histplot(x=\"Estimated Unemployment Rate (%)\",hue=\"Area(Urban/Rural)\",data=merged_df)\n",
    "plt.show()"
   ]
  },
  {
   "cell_type": "markdown",
   "metadata": {
    "id": "q5ACwQ5K5B98"
   },
   "source": [
    "### **Unemployment Rates Over Time for All States**"
   ]
  },
  {
   "cell_type": "code",
   "execution_count": null,
   "metadata": {
    "colab": {
     "base_uri": "https://localhost:8080/",
     "height": 689
    },
    "id": "my2baMJS5Jsc",
    "outputId": "befd8412-36c2-47f7-f285-b1ccddfbc07e"
   },
   "outputs": [],
   "source": [
    "plt.figure(figsize=(20, 10))\n",
    "plt.title('Unemployment Rates Over Time for All States')\n",
    "filtered_df = merged_df.dropna(subset=['Estimated Unemployment Rate (%)'])\n",
    "for state in filtered_df['State'].unique():\n",
    "    state_data = filtered_df[filtered_df['State'] == state]\n",
    "    plt.plot(state_data['Date'], state_data['Estimated Unemployment Rate (%)'], label=state)\n",
    "plt.xlabel('Date')\n",
    "plt.ylabel('Unemployment Rate (%)')\n",
    "plt.grid(True)\n",
    "plt.legend(loc='upper left', bbox_to_anchor=(1, 1))\n",
    "plt.show()\n"
   ]
  },
  {
   "cell_type": "markdown",
   "metadata": {
    "id": "jC22lbS47Vxz"
   },
   "source": [
    "### **Box Plot of Unemployment Rates by State**"
   ]
  },
  {
   "cell_type": "code",
   "execution_count": null,
   "metadata": {
    "colab": {
     "base_uri": "https://localhost:8080/",
     "height": 675
    },
    "id": "rGPQAgnt7XgS",
    "outputId": "66c28030-15fe-4182-f539-592f33017ad1"
   },
   "outputs": [],
   "source": [
    "plt.figure(figsize=(12, 6))\n",
    "plt.title('Box Plot of Unemployment Rates by State')\n",
    "sns.boxplot(data=merged_df, x='State', y='Estimated Unemployment Rate (%)')\n",
    "plt.xticks(rotation=90)\n",
    "plt.xlabel('State')\n",
    "plt.ylabel('Unemployment Rate (%)')\n",
    "plt.show()"
   ]
  },
  {
   "cell_type": "markdown",
   "metadata": {
    "id": "H62Oo-cA7xYi"
   },
   "source": [
    "### **Correlation Heatmap**"
   ]
  },
  {
   "cell_type": "code",
   "execution_count": null,
   "metadata": {
    "colab": {
     "base_uri": "https://localhost:8080/",
     "height": 1000
    },
    "id": "RPhLcvg67kUg",
    "outputId": "4082558a-6031-4918-baca-b537d41bd865"
   },
   "outputs": [],
   "source": [
    "plt.figure(figsize=(12, 8))\n",
    "plt.title('Correlation Heatmap')\n",
    "corr_matrix = merged_df.corr()\n",
    "sns.heatmap(corr_matrix, annot=True, cmap='coolwarm')\n",
    "plt.show()"
   ]
  },
  {
   "cell_type": "markdown",
   "metadata": {
    "id": "UE1SVFlf8H_w"
   },
   "source": [
    "### **Sunburst Plot**"
   ]
  },
  {
   "cell_type": "code",
   "execution_count": null,
   "metadata": {
    "colab": {
     "base_uri": "https://localhost:8080/",
     "height": 817
    },
    "id": "LnLUGwiJ8MBR",
    "outputId": "75d9759c-1cfd-4c09-dd6d-2fc452c1ad3c"
   },
   "outputs": [],
   "source": [
    "sundata=merged_df[['Area(Urban/Rural)','State','Estimated Unemployment Rate (%)']].dropna(subset=['Area(Urban/Rural)','State'])\n",
    "fig = px.sunburst(\n",
    "    sundata,\n",
    "    path=['Area(Urban/Rural)','State'],\n",
    "    values='Estimated Unemployment Rate (%)',\n",
    "    color='Estimated Unemployment Rate (%)',\n",
    "    color_continuous_scale='viridis',\n",
    "    title='Unemployment Rate Sunburst Plot'\n",
    ")\n",
    "fig.update_layout(\n",
    "    width=1000,\n",
    "    height=800\n",
    "    )\n",
    "\n",
    "fig.show()"
   ]
  },
  {
   "cell_type": "code",
   "execution_count": null,
   "metadata": {
    "colab": {
     "base_uri": "https://localhost:8080/",
     "height": 817
    },
    "id": "Rhhc0icsBXqW",
    "outputId": "d7bd975f-afd5-474e-9bc5-0b30495c9671"
   },
   "outputs": [],
   "source": [
    "sundata=merged_df[['Region','State','Estimated Unemployment Rate (%)']].dropna(subset=['Region','State'])\n",
    "fig = px.sunburst(\n",
    "    sundata,\n",
    "    path=['Region','State'],\n",
    "    values='Estimated Unemployment Rate (%)',\n",
    "    color='Estimated Unemployment Rate (%)',\n",
    "    color_continuous_scale='viridis',\n",
    "    title='Unemployment Rate Sunburst Plot'\n",
    ")\n",
    "fig.update_layout(\n",
    "    width=1000,\n",
    "    height=800\n",
    "    )\n",
    "\n",
    "fig.show()"
   ]
  }
 ],
 "metadata": {
  "colab": {
   "provenance": []
  },
  "kernelspec": {
   "display_name": "Python 3 (ipykernel)",
   "language": "python",
   "name": "python3"
  },
  "language_info": {
   "codemirror_mode": {
    "name": "ipython",
    "version": 3
   },
   "file_extension": ".py",
   "mimetype": "text/x-python",
   "name": "python",
   "nbconvert_exporter": "python",
   "pygments_lexer": "ipython3",
   "version": "3.9.16"
  }
 },
 "nbformat": 4,
 "nbformat_minor": 1
}
