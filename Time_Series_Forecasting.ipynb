{
  "nbformat": 4,
  "nbformat_minor": 0,
  "metadata": {
    "colab": {
      "provenance": [],
      "collapsed_sections": [
        "GDfk0hgqOqn6",
        "rlc28ELtO0U3",
        "QejyJ1NmPHKe"
      ]
    },
    "kernelspec": {
      "name": "python3",
      "display_name": "Python 3"
    },
    "language_info": {
      "name": "python"
    }
  },
  "cells": [
    {
      "cell_type": "markdown",
      "source": [
        "# **Time Series Forecasting**"
      ],
      "metadata": {
        "id": "mmXoudgyN8oO"
      }
    },
    {
      "cell_type": "markdown",
      "source": [
        "### **Import necessary libraries**"
      ],
      "metadata": {
        "id": "GPrn3kPzOB4H"
      }
    },
    {
      "cell_type": "code",
      "execution_count": 1,
      "metadata": {
        "colab": {
          "base_uri": "https://localhost:8080/"
        },
        "id": "Mv1fTWfAN58W",
        "outputId": "1da2087d-aacb-482e-aea3-2f5cfd08280c"
      },
      "outputs": [
        {
          "output_type": "stream",
          "name": "stdout",
          "text": [
            "Collecting pmdarima\n",
            "  Downloading pmdarima-2.0.3-cp310-cp310-manylinux_2_17_x86_64.manylinux2014_x86_64.manylinux_2_28_x86_64.whl (1.8 MB)\n",
            "\u001b[2K     \u001b[90m━━━━━━━━━━━━━━━━━━━━━━━━━━━━━━━━━━━━━━━━\u001b[0m \u001b[32m1.8/1.8 MB\u001b[0m \u001b[31m7.5 MB/s\u001b[0m eta \u001b[36m0:00:00\u001b[0m\n",
            "\u001b[?25hRequirement already satisfied: joblib>=0.11 in /usr/local/lib/python3.10/dist-packages (from pmdarima) (1.3.2)\n",
            "Requirement already satisfied: Cython!=0.29.18,!=0.29.31,>=0.29 in /usr/local/lib/python3.10/dist-packages (from pmdarima) (3.0.2)\n",
            "Requirement already satisfied: numpy>=1.21.2 in /usr/local/lib/python3.10/dist-packages (from pmdarima) (1.23.5)\n",
            "Requirement already satisfied: pandas>=0.19 in /usr/local/lib/python3.10/dist-packages (from pmdarima) (1.5.3)\n",
            "Requirement already satisfied: scikit-learn>=0.22 in /usr/local/lib/python3.10/dist-packages (from pmdarima) (1.2.2)\n",
            "Requirement already satisfied: scipy>=1.3.2 in /usr/local/lib/python3.10/dist-packages (from pmdarima) (1.11.2)\n",
            "Requirement already satisfied: statsmodels>=0.13.2 in /usr/local/lib/python3.10/dist-packages (from pmdarima) (0.14.0)\n",
            "Requirement already satisfied: urllib3 in /usr/local/lib/python3.10/dist-packages (from pmdarima) (2.0.4)\n",
            "Requirement already satisfied: setuptools!=50.0.0,>=38.6.0 in /usr/local/lib/python3.10/dist-packages (from pmdarima) (67.7.2)\n",
            "Requirement already satisfied: python-dateutil>=2.8.1 in /usr/local/lib/python3.10/dist-packages (from pandas>=0.19->pmdarima) (2.8.2)\n",
            "Requirement already satisfied: pytz>=2020.1 in /usr/local/lib/python3.10/dist-packages (from pandas>=0.19->pmdarima) (2023.3.post1)\n",
            "Requirement already satisfied: threadpoolctl>=2.0.0 in /usr/local/lib/python3.10/dist-packages (from scikit-learn>=0.22->pmdarima) (3.2.0)\n",
            "Requirement already satisfied: patsy>=0.5.2 in /usr/local/lib/python3.10/dist-packages (from statsmodels>=0.13.2->pmdarima) (0.5.3)\n",
            "Requirement already satisfied: packaging>=21.3 in /usr/local/lib/python3.10/dist-packages (from statsmodels>=0.13.2->pmdarima) (23.1)\n",
            "Requirement already satisfied: six in /usr/local/lib/python3.10/dist-packages (from patsy>=0.5.2->statsmodels>=0.13.2->pmdarima) (1.16.0)\n",
            "Installing collected packages: pmdarima\n",
            "Successfully installed pmdarima-2.0.3\n"
          ]
        }
      ],
      "source": [
        "!pip install pmdarima\n",
        "import pandas as pd\n",
        "import pmdarima as pm\n",
        "from pmdarima.model_selection import train_test_split\n",
        "from sklearn.metrics import mean_absolute_error\n",
        "import matplotlib.pyplot as plt"
      ]
    },
    {
      "cell_type": "markdown",
      "source": [
        "### **Load time series data**"
      ],
      "metadata": {
        "id": "ohMFE26ROKJ1"
      }
    },
    {
      "cell_type": "code",
      "source": [
        "data = pd.read_csv('dc.csv')"
      ],
      "metadata": {
        "id": "x210rTb6OOqX"
      },
      "execution_count": 2,
      "outputs": []
    },
    {
      "cell_type": "markdown",
      "source": [
        "### **Visualize Dataset**"
      ],
      "metadata": {
        "id": "yA_rdb8iRdz-"
      }
    },
    {
      "cell_type": "code",
      "source": [
        "data.head()"
      ],
      "metadata": {
        "colab": {
          "base_uri": "https://localhost:8080/",
          "height": 206
        },
        "id": "DFlPrhheRjWP",
        "outputId": "68f9a61a-6089-4bad-f311-49fe840e7741"
      },
      "execution_count": 3,
      "outputs": [
        {
          "output_type": "execute_result",
          "data": {
            "text/plain": [
              "   Unnamed: 0       open_SAR  open_USD       high_SAR  high_USD  \\\n",
              "0  2021-01-30  128437.248512  34246.28  131012.723200  34933.00   \n",
              "1  2021-01-29  125144.022272  33368.18  144510.037760  38531.90   \n",
              "2  2021-01-28  113870.357376  30362.19  126703.438592  33783.98   \n",
              "3  2021-01-27  121753.023104  32464.01  122102.860416  32557.29   \n",
              "4  2021-01-26  120966.114176  32254.19  123470.218752  32921.88   \n",
              "\n",
              "         low_SAR   low_USD      close_SAR  close_USD  volume  \n",
              "0  123106.880000  32825.00  128333.212416   34218.54   43072  \n",
              "1  119695.516160  31915.40  128459.450880   34252.20  231827  \n",
              "2  111919.811840  29842.10  125131.570944   33364.86   92621  \n",
              "3  109668.146688  29241.72  113885.208960   30366.15   95911  \n",
              "4  115652.472448  30837.37  121767.124608   32467.77   84972  "
            ],
            "text/html": [
              "\n",
              "  <div id=\"df-8bec2c52-ad91-405c-b5e4-a4512a90f38a\" class=\"colab-df-container\">\n",
              "    <div>\n",
              "<style scoped>\n",
              "    .dataframe tbody tr th:only-of-type {\n",
              "        vertical-align: middle;\n",
              "    }\n",
              "\n",
              "    .dataframe tbody tr th {\n",
              "        vertical-align: top;\n",
              "    }\n",
              "\n",
              "    .dataframe thead th {\n",
              "        text-align: right;\n",
              "    }\n",
              "</style>\n",
              "<table border=\"1\" class=\"dataframe\">\n",
              "  <thead>\n",
              "    <tr style=\"text-align: right;\">\n",
              "      <th></th>\n",
              "      <th>Unnamed: 0</th>\n",
              "      <th>open_SAR</th>\n",
              "      <th>open_USD</th>\n",
              "      <th>high_SAR</th>\n",
              "      <th>high_USD</th>\n",
              "      <th>low_SAR</th>\n",
              "      <th>low_USD</th>\n",
              "      <th>close_SAR</th>\n",
              "      <th>close_USD</th>\n",
              "      <th>volume</th>\n",
              "    </tr>\n",
              "  </thead>\n",
              "  <tbody>\n",
              "    <tr>\n",
              "      <th>0</th>\n",
              "      <td>2021-01-30</td>\n",
              "      <td>128437.248512</td>\n",
              "      <td>34246.28</td>\n",
              "      <td>131012.723200</td>\n",
              "      <td>34933.00</td>\n",
              "      <td>123106.880000</td>\n",
              "      <td>32825.00</td>\n",
              "      <td>128333.212416</td>\n",
              "      <td>34218.54</td>\n",
              "      <td>43072</td>\n",
              "    </tr>\n",
              "    <tr>\n",
              "      <th>1</th>\n",
              "      <td>2021-01-29</td>\n",
              "      <td>125144.022272</td>\n",
              "      <td>33368.18</td>\n",
              "      <td>144510.037760</td>\n",
              "      <td>38531.90</td>\n",
              "      <td>119695.516160</td>\n",
              "      <td>31915.40</td>\n",
              "      <td>128459.450880</td>\n",
              "      <td>34252.20</td>\n",
              "      <td>231827</td>\n",
              "    </tr>\n",
              "    <tr>\n",
              "      <th>2</th>\n",
              "      <td>2021-01-28</td>\n",
              "      <td>113870.357376</td>\n",
              "      <td>30362.19</td>\n",
              "      <td>126703.438592</td>\n",
              "      <td>33783.98</td>\n",
              "      <td>111919.811840</td>\n",
              "      <td>29842.10</td>\n",
              "      <td>125131.570944</td>\n",
              "      <td>33364.86</td>\n",
              "      <td>92621</td>\n",
              "    </tr>\n",
              "    <tr>\n",
              "      <th>3</th>\n",
              "      <td>2021-01-27</td>\n",
              "      <td>121753.023104</td>\n",
              "      <td>32464.01</td>\n",
              "      <td>122102.860416</td>\n",
              "      <td>32557.29</td>\n",
              "      <td>109668.146688</td>\n",
              "      <td>29241.72</td>\n",
              "      <td>113885.208960</td>\n",
              "      <td>30366.15</td>\n",
              "      <td>95911</td>\n",
              "    </tr>\n",
              "    <tr>\n",
              "      <th>4</th>\n",
              "      <td>2021-01-26</td>\n",
              "      <td>120966.114176</td>\n",
              "      <td>32254.19</td>\n",
              "      <td>123470.218752</td>\n",
              "      <td>32921.88</td>\n",
              "      <td>115652.472448</td>\n",
              "      <td>30837.37</td>\n",
              "      <td>121767.124608</td>\n",
              "      <td>32467.77</td>\n",
              "      <td>84972</td>\n",
              "    </tr>\n",
              "  </tbody>\n",
              "</table>\n",
              "</div>\n",
              "    <div class=\"colab-df-buttons\">\n",
              "\n",
              "  <div class=\"colab-df-container\">\n",
              "    <button class=\"colab-df-convert\" onclick=\"convertToInteractive('df-8bec2c52-ad91-405c-b5e4-a4512a90f38a')\"\n",
              "            title=\"Convert this dataframe to an interactive table.\"\n",
              "            style=\"display:none;\">\n",
              "\n",
              "  <svg xmlns=\"http://www.w3.org/2000/svg\" height=\"24px\" viewBox=\"0 -960 960 960\">\n",
              "    <path d=\"M120-120v-720h720v720H120Zm60-500h600v-160H180v160Zm220 220h160v-160H400v160Zm0 220h160v-160H400v160ZM180-400h160v-160H180v160Zm440 0h160v-160H620v160ZM180-180h160v-160H180v160Zm440 0h160v-160H620v160Z\"/>\n",
              "  </svg>\n",
              "    </button>\n",
              "\n",
              "  <style>\n",
              "    .colab-df-container {\n",
              "      display:flex;\n",
              "      gap: 12px;\n",
              "    }\n",
              "\n",
              "    .colab-df-convert {\n",
              "      background-color: #E8F0FE;\n",
              "      border: none;\n",
              "      border-radius: 50%;\n",
              "      cursor: pointer;\n",
              "      display: none;\n",
              "      fill: #1967D2;\n",
              "      height: 32px;\n",
              "      padding: 0 0 0 0;\n",
              "      width: 32px;\n",
              "    }\n",
              "\n",
              "    .colab-df-convert:hover {\n",
              "      background-color: #E2EBFA;\n",
              "      box-shadow: 0px 1px 2px rgba(60, 64, 67, 0.3), 0px 1px 3px 1px rgba(60, 64, 67, 0.15);\n",
              "      fill: #174EA6;\n",
              "    }\n",
              "\n",
              "    .colab-df-buttons div {\n",
              "      margin-bottom: 4px;\n",
              "    }\n",
              "\n",
              "    [theme=dark] .colab-df-convert {\n",
              "      background-color: #3B4455;\n",
              "      fill: #D2E3FC;\n",
              "    }\n",
              "\n",
              "    [theme=dark] .colab-df-convert:hover {\n",
              "      background-color: #434B5C;\n",
              "      box-shadow: 0px 1px 3px 1px rgba(0, 0, 0, 0.15);\n",
              "      filter: drop-shadow(0px 1px 2px rgba(0, 0, 0, 0.3));\n",
              "      fill: #FFFFFF;\n",
              "    }\n",
              "  </style>\n",
              "\n",
              "    <script>\n",
              "      const buttonEl =\n",
              "        document.querySelector('#df-8bec2c52-ad91-405c-b5e4-a4512a90f38a button.colab-df-convert');\n",
              "      buttonEl.style.display =\n",
              "        google.colab.kernel.accessAllowed ? 'block' : 'none';\n",
              "\n",
              "      async function convertToInteractive(key) {\n",
              "        const element = document.querySelector('#df-8bec2c52-ad91-405c-b5e4-a4512a90f38a');\n",
              "        const dataTable =\n",
              "          await google.colab.kernel.invokeFunction('convertToInteractive',\n",
              "                                                    [key], {});\n",
              "        if (!dataTable) return;\n",
              "\n",
              "        const docLinkHtml = 'Like what you see? Visit the ' +\n",
              "          '<a target=\"_blank\" href=https://colab.research.google.com/notebooks/data_table.ipynb>data table notebook</a>'\n",
              "          + ' to learn more about interactive tables.';\n",
              "        element.innerHTML = '';\n",
              "        dataTable['output_type'] = 'display_data';\n",
              "        await google.colab.output.renderOutput(dataTable, element);\n",
              "        const docLink = document.createElement('div');\n",
              "        docLink.innerHTML = docLinkHtml;\n",
              "        element.appendChild(docLink);\n",
              "      }\n",
              "    </script>\n",
              "  </div>\n",
              "\n",
              "\n",
              "<div id=\"df-c7654f5e-8496-49e7-8b1d-4001d6a4eede\">\n",
              "  <button class=\"colab-df-quickchart\" onclick=\"quickchart('df-c7654f5e-8496-49e7-8b1d-4001d6a4eede')\"\n",
              "            title=\"Suggest charts.\"\n",
              "            style=\"display:none;\">\n",
              "\n",
              "<svg xmlns=\"http://www.w3.org/2000/svg\" height=\"24px\"viewBox=\"0 0 24 24\"\n",
              "     width=\"24px\">\n",
              "    <g>\n",
              "        <path d=\"M19 3H5c-1.1 0-2 .9-2 2v14c0 1.1.9 2 2 2h14c1.1 0 2-.9 2-2V5c0-1.1-.9-2-2-2zM9 17H7v-7h2v7zm4 0h-2V7h2v10zm4 0h-2v-4h2v4z\"/>\n",
              "    </g>\n",
              "</svg>\n",
              "  </button>\n",
              "\n",
              "<style>\n",
              "  .colab-df-quickchart {\n",
              "      --bg-color: #E8F0FE;\n",
              "      --fill-color: #1967D2;\n",
              "      --hover-bg-color: #E2EBFA;\n",
              "      --hover-fill-color: #174EA6;\n",
              "      --disabled-fill-color: #AAA;\n",
              "      --disabled-bg-color: #DDD;\n",
              "  }\n",
              "\n",
              "  [theme=dark] .colab-df-quickchart {\n",
              "      --bg-color: #3B4455;\n",
              "      --fill-color: #D2E3FC;\n",
              "      --hover-bg-color: #434B5C;\n",
              "      --hover-fill-color: #FFFFFF;\n",
              "      --disabled-bg-color: #3B4455;\n",
              "      --disabled-fill-color: #666;\n",
              "  }\n",
              "\n",
              "  .colab-df-quickchart {\n",
              "    background-color: var(--bg-color);\n",
              "    border: none;\n",
              "    border-radius: 50%;\n",
              "    cursor: pointer;\n",
              "    display: none;\n",
              "    fill: var(--fill-color);\n",
              "    height: 32px;\n",
              "    padding: 0;\n",
              "    width: 32px;\n",
              "  }\n",
              "\n",
              "  .colab-df-quickchart:hover {\n",
              "    background-color: var(--hover-bg-color);\n",
              "    box-shadow: 0 1px 2px rgba(60, 64, 67, 0.3), 0 1px 3px 1px rgba(60, 64, 67, 0.15);\n",
              "    fill: var(--button-hover-fill-color);\n",
              "  }\n",
              "\n",
              "  .colab-df-quickchart-complete:disabled,\n",
              "  .colab-df-quickchart-complete:disabled:hover {\n",
              "    background-color: var(--disabled-bg-color);\n",
              "    fill: var(--disabled-fill-color);\n",
              "    box-shadow: none;\n",
              "  }\n",
              "\n",
              "  .colab-df-spinner {\n",
              "    border: 2px solid var(--fill-color);\n",
              "    border-color: transparent;\n",
              "    border-bottom-color: var(--fill-color);\n",
              "    animation:\n",
              "      spin 1s steps(1) infinite;\n",
              "  }\n",
              "\n",
              "  @keyframes spin {\n",
              "    0% {\n",
              "      border-color: transparent;\n",
              "      border-bottom-color: var(--fill-color);\n",
              "      border-left-color: var(--fill-color);\n",
              "    }\n",
              "    20% {\n",
              "      border-color: transparent;\n",
              "      border-left-color: var(--fill-color);\n",
              "      border-top-color: var(--fill-color);\n",
              "    }\n",
              "    30% {\n",
              "      border-color: transparent;\n",
              "      border-left-color: var(--fill-color);\n",
              "      border-top-color: var(--fill-color);\n",
              "      border-right-color: var(--fill-color);\n",
              "    }\n",
              "    40% {\n",
              "      border-color: transparent;\n",
              "      border-right-color: var(--fill-color);\n",
              "      border-top-color: var(--fill-color);\n",
              "    }\n",
              "    60% {\n",
              "      border-color: transparent;\n",
              "      border-right-color: var(--fill-color);\n",
              "    }\n",
              "    80% {\n",
              "      border-color: transparent;\n",
              "      border-right-color: var(--fill-color);\n",
              "      border-bottom-color: var(--fill-color);\n",
              "    }\n",
              "    90% {\n",
              "      border-color: transparent;\n",
              "      border-bottom-color: var(--fill-color);\n",
              "    }\n",
              "  }\n",
              "</style>\n",
              "\n",
              "  <script>\n",
              "    async function quickchart(key) {\n",
              "      const quickchartButtonEl =\n",
              "        document.querySelector('#' + key + ' button');\n",
              "      quickchartButtonEl.disabled = true;  // To prevent multiple clicks.\n",
              "      quickchartButtonEl.classList.add('colab-df-spinner');\n",
              "      try {\n",
              "        const charts = await google.colab.kernel.invokeFunction(\n",
              "            'suggestCharts', [key], {});\n",
              "      } catch (error) {\n",
              "        console.error('Error during call to suggestCharts:', error);\n",
              "      }\n",
              "      quickchartButtonEl.classList.remove('colab-df-spinner');\n",
              "      quickchartButtonEl.classList.add('colab-df-quickchart-complete');\n",
              "    }\n",
              "    (() => {\n",
              "      let quickchartButtonEl =\n",
              "        document.querySelector('#df-c7654f5e-8496-49e7-8b1d-4001d6a4eede button');\n",
              "      quickchartButtonEl.style.display =\n",
              "        google.colab.kernel.accessAllowed ? 'block' : 'none';\n",
              "    })();\n",
              "  </script>\n",
              "</div>\n",
              "    </div>\n",
              "  </div>\n"
            ]
          },
          "metadata": {},
          "execution_count": 3
        }
      ]
    },
    {
      "cell_type": "markdown",
      "source": [
        "### **Format Dataset**"
      ],
      "metadata": {
        "id": "ynj-vz_COSU0"
      }
    },
    {
      "cell_type": "code",
      "source": [
        "data = data.rename(columns={'Unnamed: 0': 'Date'})\n",
        "data = data[['Date', 'close_SAR', 'close_USD']]\n",
        "data['Date'] = pd.to_datetime(data['Date'])\n",
        "data.set_index('Date', inplace=True)"
      ],
      "metadata": {
        "id": "kPrUY_emOVvy"
      },
      "execution_count": 4,
      "outputs": []
    },
    {
      "cell_type": "markdown",
      "source": [
        "### **Split the data into a training set and a test set**"
      ],
      "metadata": {
        "id": "lwqoQYIGOd1r"
      }
    },
    {
      "cell_type": "code",
      "source": [
        "train_data, test_data = train_test_split(data, train_size=0.8)"
      ],
      "metadata": {
        "id": "NdYKUv-NOoF4"
      },
      "execution_count": 5,
      "outputs": []
    },
    {
      "cell_type": "markdown",
      "source": [
        "### **Fit an AutoARIMA model to the 'close_SAR' column**"
      ],
      "metadata": {
        "id": "GDfk0hgqOqn6"
      }
    },
    {
      "cell_type": "code",
      "source": [
        "autoarima_model_sar = pm.auto_arima(train_data['close_SAR'], seasonal=True, m=12, stepwise=True, trace=True)"
      ],
      "metadata": {
        "colab": {
          "base_uri": "https://localhost:8080/"
        },
        "id": "Sj793cGaOwV5",
        "outputId": "9066e312-e058-400a-b7eb-73b10054726c"
      },
      "execution_count": 6,
      "outputs": [
        {
          "output_type": "stream",
          "name": "stdout",
          "text": [
            "Performing stepwise search to minimize aic\n",
            " ARIMA(2,2,2)(1,0,1)[12]             : AIC=inf, Time=7.12 sec\n",
            " ARIMA(0,2,0)(0,0,0)[12]             : AIC=14863.462, Time=0.03 sec\n",
            " ARIMA(1,2,0)(1,0,0)[12]             : AIC=14810.269, Time=0.69 sec\n",
            " ARIMA(0,2,1)(0,0,1)[12]             : AIC=14794.747, Time=1.20 sec\n",
            " ARIMA(0,2,1)(0,0,0)[12]             : AIC=14801.568, Time=0.55 sec\n",
            " ARIMA(0,2,1)(1,0,1)[12]             : AIC=14795.480, Time=3.73 sec\n",
            " ARIMA(0,2,1)(0,0,2)[12]             : AIC=14792.574, Time=6.47 sec\n",
            " ARIMA(0,2,1)(1,0,2)[12]             : AIC=inf, Time=16.83 sec\n",
            " ARIMA(0,2,0)(0,0,2)[12]             : AIC=14852.965, Time=1.64 sec\n",
            " ARIMA(1,2,1)(0,0,2)[12]             : AIC=inf, Time=7.09 sec\n",
            " ARIMA(0,2,2)(0,0,2)[12]             : AIC=14700.939, Time=5.61 sec\n",
            " ARIMA(0,2,2)(0,0,1)[12]             : AIC=14705.291, Time=1.62 sec\n",
            " ARIMA(0,2,2)(1,0,2)[12]             : AIC=14688.438, Time=11.51 sec\n",
            " ARIMA(0,2,2)(1,0,1)[12]             : AIC=14705.449, Time=4.20 sec\n",
            " ARIMA(0,2,2)(2,0,2)[12]             : AIC=14751.533, Time=14.46 sec\n",
            " ARIMA(0,2,2)(2,0,1)[12]             : AIC=inf, Time=9.56 sec\n",
            " ARIMA(1,2,2)(1,0,2)[12]             : AIC=inf, Time=11.78 sec\n",
            " ARIMA(0,2,3)(1,0,2)[12]             : AIC=inf, Time=13.75 sec\n",
            " ARIMA(1,2,1)(1,0,2)[12]             : AIC=inf, Time=9.32 sec\n",
            " ARIMA(1,2,3)(1,0,2)[12]             : AIC=inf, Time=15.41 sec\n",
            " ARIMA(0,2,2)(1,0,2)[12] intercept   : AIC=14750.802, Time=12.65 sec\n",
            "\n",
            "Best model:  ARIMA(0,2,2)(1,0,2)[12]          \n",
            "Total fit time: 155.334 seconds\n"
          ]
        }
      ]
    },
    {
      "cell_type": "markdown",
      "source": [
        "### **Print the best model's summary**"
      ],
      "metadata": {
        "id": "rlc28ELtO0U3"
      }
    },
    {
      "cell_type": "code",
      "source": [
        "print(\"AutoARIMA Model for close_SAR:\\n\")\n",
        "autoarima_model_sar.summary()"
      ],
      "metadata": {
        "colab": {
          "base_uri": "https://localhost:8080/",
          "height": 522
        },
        "id": "eOFJ_4-kO5cP",
        "outputId": "f77ae647-70fc-4245-9837-031ec322064e"
      },
      "execution_count": 7,
      "outputs": [
        {
          "output_type": "stream",
          "name": "stdout",
          "text": [
            "AutoARIMA Model for close_SAR:\n",
            "\n"
          ]
        },
        {
          "output_type": "execute_result",
          "data": {
            "text/plain": [
              "<class 'statsmodels.iolib.summary.Summary'>\n",
              "\"\"\"\n",
              "                                     SARIMAX Results                                      \n",
              "==========================================================================================\n",
              "Dep. Variable:                                  y   No. Observations:                  800\n",
              "Model:             SARIMAX(0, 2, 2)x(1, 0, 2, 12)   Log Likelihood               -7338.219\n",
              "Date:                            Mon, 02 Oct 2023   AIC                          14688.438\n",
              "Time:                                    21:38:37   BIC                          14716.530\n",
              "Sample:                                         0   HQIC                         14699.231\n",
              "                                            - 800                                         \n",
              "Covariance Type:                              opg                                         \n",
              "==============================================================================\n",
              "                 coef    std err          z      P>|z|      [0.025      0.975]\n",
              "------------------------------------------------------------------------------\n",
              "ma.L1         -0.5237      0.007    -72.930      0.000      -0.538      -0.510\n",
              "ma.L2         -0.2719      0.004    -61.389      0.000      -0.281      -0.263\n",
              "ar.S.L12       0.7263      0.098      7.420      0.000       0.534       0.918\n",
              "ma.S.L12      -0.6811      0.101     -6.744      0.000      -0.879      -0.483\n",
              "ma.S.L24      -0.0996      0.011     -9.282      0.000      -0.121      -0.079\n",
              "sigma2      5.471e+06    6.7e+04     81.708      0.000    5.34e+06     5.6e+06\n",
              "===================================================================================\n",
              "Ljung-Box (L1) (Q):                  13.37   Jarque-Bera (JB):             51733.22\n",
              "Prob(Q):                              0.00   Prob(JB):                         0.00\n",
              "Heteroskedasticity (H):               0.16   Skew:                            -2.71\n",
              "Prob(H) (two-sided):                  0.00   Kurtosis:                        42.07\n",
              "===================================================================================\n",
              "\n",
              "Warnings:\n",
              "[1] Covariance matrix calculated using the outer product of gradients (complex-step).\n",
              "\"\"\""
            ],
            "text/html": [
              "<table class=\"simpletable\">\n",
              "<caption>SARIMAX Results</caption>\n",
              "<tr>\n",
              "  <th>Dep. Variable:</th>                  <td>y</td>               <th>  No. Observations:  </th>    <td>800</td>   \n",
              "</tr>\n",
              "<tr>\n",
              "  <th>Model:</th>           <td>SARIMAX(0, 2, 2)x(1, 0, 2, 12)</td> <th>  Log Likelihood     </th> <td>-7338.219</td>\n",
              "</tr>\n",
              "<tr>\n",
              "  <th>Date:</th>                   <td>Mon, 02 Oct 2023</td>        <th>  AIC                </th> <td>14688.438</td>\n",
              "</tr>\n",
              "<tr>\n",
              "  <th>Time:</th>                       <td>21:38:37</td>            <th>  BIC                </th> <td>14716.530</td>\n",
              "</tr>\n",
              "<tr>\n",
              "  <th>Sample:</th>                         <td>0</td>               <th>  HQIC               </th> <td>14699.231</td>\n",
              "</tr>\n",
              "<tr>\n",
              "  <th></th>                             <td> - 800</td>             <th>                     </th>     <td> </td>    \n",
              "</tr>\n",
              "<tr>\n",
              "  <th>Covariance Type:</th>               <td>opg</td>              <th>                     </th>     <td> </td>    \n",
              "</tr>\n",
              "</table>\n",
              "<table class=\"simpletable\">\n",
              "<tr>\n",
              "      <td></td>        <th>coef</th>     <th>std err</th>      <th>z</th>      <th>P>|z|</th>  <th>[0.025</th>    <th>0.975]</th>  \n",
              "</tr>\n",
              "<tr>\n",
              "  <th>ma.L1</th>    <td>   -0.5237</td> <td>    0.007</td> <td>  -72.930</td> <td> 0.000</td> <td>   -0.538</td> <td>   -0.510</td>\n",
              "</tr>\n",
              "<tr>\n",
              "  <th>ma.L2</th>    <td>   -0.2719</td> <td>    0.004</td> <td>  -61.389</td> <td> 0.000</td> <td>   -0.281</td> <td>   -0.263</td>\n",
              "</tr>\n",
              "<tr>\n",
              "  <th>ar.S.L12</th> <td>    0.7263</td> <td>    0.098</td> <td>    7.420</td> <td> 0.000</td> <td>    0.534</td> <td>    0.918</td>\n",
              "</tr>\n",
              "<tr>\n",
              "  <th>ma.S.L12</th> <td>   -0.6811</td> <td>    0.101</td> <td>   -6.744</td> <td> 0.000</td> <td>   -0.879</td> <td>   -0.483</td>\n",
              "</tr>\n",
              "<tr>\n",
              "  <th>ma.S.L24</th> <td>   -0.0996</td> <td>    0.011</td> <td>   -9.282</td> <td> 0.000</td> <td>   -0.121</td> <td>   -0.079</td>\n",
              "</tr>\n",
              "<tr>\n",
              "  <th>sigma2</th>   <td> 5.471e+06</td> <td>  6.7e+04</td> <td>   81.708</td> <td> 0.000</td> <td> 5.34e+06</td> <td>  5.6e+06</td>\n",
              "</tr>\n",
              "</table>\n",
              "<table class=\"simpletable\">\n",
              "<tr>\n",
              "  <th>Ljung-Box (L1) (Q):</th>     <td>13.37</td> <th>  Jarque-Bera (JB):  </th> <td>51733.22</td>\n",
              "</tr>\n",
              "<tr>\n",
              "  <th>Prob(Q):</th>                <td>0.00</td>  <th>  Prob(JB):          </th>   <td>0.00</td>  \n",
              "</tr>\n",
              "<tr>\n",
              "  <th>Heteroskedasticity (H):</th> <td>0.16</td>  <th>  Skew:              </th>   <td>-2.71</td> \n",
              "</tr>\n",
              "<tr>\n",
              "  <th>Prob(H) (two-sided):</th>    <td>0.00</td>  <th>  Kurtosis:          </th>   <td>42.07</td> \n",
              "</tr>\n",
              "</table><br/><br/>Warnings:<br/>[1] Covariance matrix calculated using the outer product of gradients (complex-step)."
            ],
            "text/latex": "\\begin{center}\n\\begin{tabular}{lclc}\n\\toprule\n\\textbf{Dep. Variable:}          &               y                & \\textbf{  No. Observations:  } &    800      \\\\\n\\textbf{Model:}                  & SARIMAX(0, 2, 2)x(1, 0, 2, 12) & \\textbf{  Log Likelihood     } & -7338.219   \\\\\n\\textbf{Date:}                   &        Mon, 02 Oct 2023        & \\textbf{  AIC                } & 14688.438   \\\\\n\\textbf{Time:}                   &            21:38:37            & \\textbf{  BIC                } & 14716.530   \\\\\n\\textbf{Sample:}                 &               0                & \\textbf{  HQIC               } & 14699.231   \\\\\n\\textbf{}                        &              - 800             & \\textbf{                     } &             \\\\\n\\textbf{Covariance Type:}        &              opg               & \\textbf{                     } &             \\\\\n\\bottomrule\n\\end{tabular}\n\\begin{tabular}{lcccccc}\n                  & \\textbf{coef} & \\textbf{std err} & \\textbf{z} & \\textbf{P$> |$z$|$} & \\textbf{[0.025} & \\textbf{0.975]}  \\\\\n\\midrule\n\\textbf{ma.L1}    &      -0.5237  &        0.007     &   -72.930  &         0.000        &       -0.538    &       -0.510     \\\\\n\\textbf{ma.L2}    &      -0.2719  &        0.004     &   -61.389  &         0.000        &       -0.281    &       -0.263     \\\\\n\\textbf{ar.S.L12} &       0.7263  &        0.098     &     7.420  &         0.000        &        0.534    &        0.918     \\\\\n\\textbf{ma.S.L12} &      -0.6811  &        0.101     &    -6.744  &         0.000        &       -0.879    &       -0.483     \\\\\n\\textbf{ma.S.L24} &      -0.0996  &        0.011     &    -9.282  &         0.000        &       -0.121    &       -0.079     \\\\\n\\textbf{sigma2}   &    5.471e+06  &      6.7e+04     &    81.708  &         0.000        &     5.34e+06    &      5.6e+06     \\\\\n\\bottomrule\n\\end{tabular}\n\\begin{tabular}{lclc}\n\\textbf{Ljung-Box (L1) (Q):}     & 13.37 & \\textbf{  Jarque-Bera (JB):  } & 51733.22  \\\\\n\\textbf{Prob(Q):}                &  0.00 & \\textbf{  Prob(JB):          } &   0.00    \\\\\n\\textbf{Heteroskedasticity (H):} &  0.16 & \\textbf{  Skew:              } &  -2.71    \\\\\n\\textbf{Prob(H) (two-sided):}    &  0.00 & \\textbf{  Kurtosis:          } &  42.07    \\\\\n\\bottomrule\n\\end{tabular}\n%\\caption{SARIMAX Results}\n\\end{center}\n\nWarnings: \\newline\n [1] Covariance matrix calculated using the outer product of gradients (complex-step)."
          },
          "metadata": {},
          "execution_count": 7
        }
      ]
    },
    {
      "cell_type": "markdown",
      "source": [
        "### **Fit an AutoARIMA model to the 'close_USD' column**"
      ],
      "metadata": {
        "id": "QejyJ1NmPHKe"
      }
    },
    {
      "cell_type": "code",
      "source": [
        "autoarima_model_usd = pm.auto_arima(train_data['close_USD'], seasonal=True, m=12, stepwise=True, trace=True)"
      ],
      "metadata": {
        "colab": {
          "base_uri": "https://localhost:8080/"
        },
        "id": "2gCrZjJsPHKe",
        "outputId": "7a7711e0-b921-47e7-ed04-8aa3a993cfab"
      },
      "execution_count": 8,
      "outputs": [
        {
          "output_type": "stream",
          "name": "stdout",
          "text": [
            "Performing stepwise search to minimize aic\n",
            " ARIMA(2,2,2)(1,0,1)[12]             : AIC=inf, Time=4.54 sec\n",
            " ARIMA(0,2,0)(0,0,0)[12]             : AIC=12753.770, Time=0.03 sec\n",
            " ARIMA(1,2,0)(1,0,0)[12]             : AIC=12599.066, Time=0.32 sec\n",
            " ARIMA(0,2,1)(0,0,1)[12]             : AIC=inf, Time=0.80 sec\n",
            " ARIMA(1,2,0)(0,0,0)[12]             : AIC=12611.263, Time=0.08 sec\n",
            " ARIMA(1,2,0)(2,0,0)[12]             : AIC=12591.981, Time=0.47 sec\n",
            " ARIMA(1,2,0)(2,0,1)[12]             : AIC=12584.914, Time=3.14 sec\n",
            " ARIMA(1,2,0)(1,0,1)[12]             : AIC=12597.416, Time=1.53 sec\n",
            " ARIMA(1,2,0)(2,0,2)[12]             : AIC=12586.860, Time=4.77 sec\n",
            " ARIMA(1,2,0)(1,0,2)[12]             : AIC=12586.407, Time=9.85 sec\n",
            " ARIMA(0,2,0)(2,0,1)[12]             : AIC=12725.365, Time=16.20 sec\n",
            " ARIMA(2,2,0)(2,0,1)[12]             : AIC=12546.573, Time=1.88 sec\n",
            " ARIMA(2,2,0)(1,0,1)[12]             : AIC=12563.890, Time=0.55 sec\n",
            " ARIMA(2,2,0)(2,0,0)[12]             : AIC=12555.519, Time=0.60 sec\n",
            " ARIMA(2,2,0)(2,0,2)[12]             : AIC=12548.539, Time=3.09 sec\n",
            " ARIMA(2,2,0)(1,0,0)[12]             : AIC=12566.973, Time=0.23 sec\n",
            " ARIMA(2,2,0)(1,0,2)[12]             : AIC=12548.601, Time=3.93 sec\n",
            " ARIMA(3,2,0)(2,0,1)[12]             : AIC=12429.724, Time=2.76 sec\n",
            " ARIMA(3,2,0)(1,0,1)[12]             : AIC=12444.592, Time=0.75 sec\n",
            " ARIMA(3,2,0)(2,0,0)[12]             : AIC=12435.092, Time=0.75 sec\n",
            " ARIMA(3,2,0)(2,0,2)[12]             : AIC=12431.662, Time=3.15 sec\n",
            " ARIMA(3,2,0)(1,0,0)[12]             : AIC=12447.183, Time=0.82 sec\n",
            " ARIMA(3,2,0)(1,0,2)[12]             : AIC=12431.397, Time=2.76 sec\n",
            " ARIMA(4,2,0)(2,0,1)[12]             : AIC=12404.504, Time=4.48 sec\n",
            " ARIMA(4,2,0)(1,0,1)[12]             : AIC=12420.016, Time=0.86 sec\n",
            " ARIMA(4,2,0)(2,0,0)[12]             : AIC=12411.662, Time=0.95 sec\n",
            " ARIMA(4,2,0)(2,0,2)[12]             : AIC=12406.166, Time=4.05 sec\n",
            " ARIMA(4,2,0)(1,0,0)[12]             : AIC=12421.837, Time=0.99 sec\n",
            " ARIMA(4,2,0)(1,0,2)[12]             : AIC=12407.191, Time=4.78 sec\n",
            " ARIMA(5,2,0)(2,0,1)[12]             : AIC=12341.922, Time=3.72 sec\n",
            " ARIMA(5,2,0)(1,0,1)[12]             : AIC=12354.609, Time=1.02 sec\n",
            " ARIMA(5,2,0)(2,0,0)[12]             : AIC=12347.912, Time=1.15 sec\n",
            " ARIMA(5,2,0)(2,0,2)[12]             : AIC=12343.846, Time=6.61 sec\n",
            " ARIMA(5,2,0)(1,0,0)[12]             : AIC=12357.947, Time=1.08 sec\n",
            " ARIMA(5,2,0)(1,0,2)[12]             : AIC=12344.209, Time=3.71 sec\n",
            " ARIMA(5,2,1)(2,0,1)[12]             : AIC=12283.205, Time=16.53 sec\n",
            " ARIMA(5,2,1)(1,0,1)[12]             : AIC=12308.704, Time=2.07 sec\n",
            " ARIMA(5,2,1)(2,0,0)[12]             : AIC=inf, Time=16.33 sec\n",
            " ARIMA(5,2,1)(2,0,2)[12]             : AIC=inf, Time=18.58 sec\n",
            " ARIMA(5,2,1)(1,0,0)[12]             : AIC=12313.900, Time=1.21 sec\n",
            " ARIMA(5,2,1)(1,0,2)[12]             : AIC=inf, Time=13.64 sec\n",
            " ARIMA(4,2,1)(2,0,1)[12]             : AIC=inf, Time=14.63 sec\n",
            " ARIMA(5,2,2)(2,0,1)[12]             : AIC=inf, Time=21.30 sec\n",
            " ARIMA(4,2,2)(2,0,1)[12]             : AIC=12275.767, Time=15.91 sec\n",
            " ARIMA(4,2,2)(1,0,1)[12]             : AIC=inf, Time=7.15 sec\n",
            " ARIMA(4,2,2)(2,0,0)[12]             : AIC=inf, Time=15.91 sec\n",
            " ARIMA(4,2,2)(2,0,2)[12]             : AIC=inf, Time=17.54 sec\n",
            " ARIMA(4,2,2)(1,0,0)[12]             : AIC=inf, Time=5.36 sec\n",
            " ARIMA(4,2,2)(1,0,2)[12]             : AIC=12277.334, Time=15.52 sec\n",
            " ARIMA(3,2,2)(2,0,1)[12]             : AIC=inf, Time=17.03 sec\n",
            " ARIMA(4,2,3)(2,0,1)[12]             : AIC=12276.621, Time=17.46 sec\n",
            " ARIMA(3,2,1)(2,0,1)[12]             : AIC=12287.585, Time=11.67 sec\n",
            " ARIMA(3,2,3)(2,0,1)[12]             : AIC=12275.308, Time=16.59 sec\n",
            " ARIMA(3,2,3)(1,0,1)[12]             : AIC=inf, Time=7.60 sec\n",
            " ARIMA(3,2,3)(2,0,0)[12]             : AIC=inf, Time=14.56 sec\n",
            " ARIMA(3,2,3)(2,0,2)[12]             : AIC=12277.310, Time=18.67 sec\n",
            " ARIMA(3,2,3)(1,0,0)[12]             : AIC=inf, Time=6.69 sec\n",
            " ARIMA(3,2,3)(1,0,2)[12]             : AIC=12277.207, Time=16.93 sec\n",
            " ARIMA(2,2,3)(2,0,1)[12]             : AIC=inf, Time=15.19 sec\n",
            " ARIMA(3,2,4)(2,0,1)[12]             : AIC=12283.779, Time=19.60 sec\n",
            " ARIMA(2,2,2)(2,0,1)[12]             : AIC=inf, Time=10.05 sec\n",
            " ARIMA(2,2,4)(2,0,1)[12]             : AIC=inf, Time=15.19 sec\n",
            " ARIMA(4,2,4)(2,0,1)[12]             : AIC=inf, Time=20.85 sec\n",
            " ARIMA(3,2,3)(2,0,1)[12] intercept   : AIC=inf, Time=20.83 sec\n",
            "\n",
            "Best model:  ARIMA(3,2,3)(2,0,1)[12]          \n",
            "Total fit time: 507.133 seconds\n"
          ]
        }
      ]
    },
    {
      "cell_type": "markdown",
      "source": [
        "### **Print the best model's summary**"
      ],
      "metadata": {
        "id": "PHDnDSG9PhMN"
      }
    },
    {
      "cell_type": "code",
      "source": [
        "print(\"\\nAutoARIMA Model for close_USD:\")\n",
        "autoarima_model_usd.summary()"
      ],
      "metadata": {
        "colab": {
          "base_uri": "https://localhost:8080/",
          "height": 606
        },
        "id": "ya6JxyJ5PhMT",
        "outputId": "7c78ed52-5a72-4986-a31a-e624339c9ba6"
      },
      "execution_count": 9,
      "outputs": [
        {
          "output_type": "stream",
          "name": "stdout",
          "text": [
            "\n",
            "AutoARIMA Model for close_USD:\n"
          ]
        },
        {
          "output_type": "execute_result",
          "data": {
            "text/plain": [
              "<class 'statsmodels.iolib.summary.Summary'>\n",
              "\"\"\"\n",
              "                                      SARIMAX Results                                       \n",
              "============================================================================================\n",
              "Dep. Variable:                                    y   No. Observations:                  800\n",
              "Model:             SARIMAX(3, 2, 3)x(2, 0, [1], 12)   Log Likelihood               -6127.654\n",
              "Date:                              Mon, 02 Oct 2023   AIC                          12275.308\n",
              "Time:                                      21:47:04   BIC                          12322.129\n",
              "Sample:                                           0   HQIC                         12293.297\n",
              "                                              - 800                                         \n",
              "Covariance Type:                                opg                                         \n",
              "==============================================================================\n",
              "                 coef    std err          z      P>|z|      [0.025      0.975]\n",
              "------------------------------------------------------------------------------\n",
              "ar.L1         -0.5594      0.070     -8.018      0.000      -0.696      -0.423\n",
              "ar.L2          0.0761      0.064      1.182      0.237      -0.050       0.202\n",
              "ar.L3         -0.1870      0.016    -11.703      0.000      -0.218      -0.156\n",
              "ma.L1         -0.2839      0.074     -3.853      0.000      -0.428      -0.139\n",
              "ma.L2         -0.7616      0.031    -24.343      0.000      -0.823      -0.700\n",
              "ma.L3          0.0625      0.074      0.850      0.395      -0.082       0.207\n",
              "ar.S.L12       0.6577      0.093      7.058      0.000       0.475       0.840\n",
              "ar.S.L24      -0.2278      0.018    -12.415      0.000      -0.264      -0.192\n",
              "ma.S.L12      -0.5363      0.099     -5.405      0.000      -0.731      -0.342\n",
              "sigma2       2.27e+05   4186.677     54.219      0.000    2.19e+05    2.35e+05\n",
              "===================================================================================\n",
              "Ljung-Box (L1) (Q):                   0.58   Jarque-Bera (JB):              9058.73\n",
              "Prob(Q):                              0.45   Prob(JB):                         0.00\n",
              "Heteroskedasticity (H):               0.23   Skew:                            -0.85\n",
              "Prob(H) (two-sided):                  0.00   Kurtosis:                        19.42\n",
              "===================================================================================\n",
              "\n",
              "Warnings:\n",
              "[1] Covariance matrix calculated using the outer product of gradients (complex-step).\n",
              "\"\"\""
            ],
            "text/html": [
              "<table class=\"simpletable\">\n",
              "<caption>SARIMAX Results</caption>\n",
              "<tr>\n",
              "  <th>Dep. Variable:</th>                   <td>y</td>                <th>  No. Observations:  </th>    <td>800</td>   \n",
              "</tr>\n",
              "<tr>\n",
              "  <th>Model:</th>           <td>SARIMAX(3, 2, 3)x(2, 0, [1], 12)</td> <th>  Log Likelihood     </th> <td>-6127.654</td>\n",
              "</tr>\n",
              "<tr>\n",
              "  <th>Date:</th>                    <td>Mon, 02 Oct 2023</td>         <th>  AIC                </th> <td>12275.308</td>\n",
              "</tr>\n",
              "<tr>\n",
              "  <th>Time:</th>                        <td>21:47:04</td>             <th>  BIC                </th> <td>12322.129</td>\n",
              "</tr>\n",
              "<tr>\n",
              "  <th>Sample:</th>                          <td>0</td>                <th>  HQIC               </th> <td>12293.297</td>\n",
              "</tr>\n",
              "<tr>\n",
              "  <th></th>                              <td> - 800</td>              <th>                     </th>     <td> </td>    \n",
              "</tr>\n",
              "<tr>\n",
              "  <th>Covariance Type:</th>                <td>opg</td>               <th>                     </th>     <td> </td>    \n",
              "</tr>\n",
              "</table>\n",
              "<table class=\"simpletable\">\n",
              "<tr>\n",
              "      <td></td>        <th>coef</th>     <th>std err</th>      <th>z</th>      <th>P>|z|</th>  <th>[0.025</th>    <th>0.975]</th>  \n",
              "</tr>\n",
              "<tr>\n",
              "  <th>ar.L1</th>    <td>   -0.5594</td> <td>    0.070</td> <td>   -8.018</td> <td> 0.000</td> <td>   -0.696</td> <td>   -0.423</td>\n",
              "</tr>\n",
              "<tr>\n",
              "  <th>ar.L2</th>    <td>    0.0761</td> <td>    0.064</td> <td>    1.182</td> <td> 0.237</td> <td>   -0.050</td> <td>    0.202</td>\n",
              "</tr>\n",
              "<tr>\n",
              "  <th>ar.L3</th>    <td>   -0.1870</td> <td>    0.016</td> <td>  -11.703</td> <td> 0.000</td> <td>   -0.218</td> <td>   -0.156</td>\n",
              "</tr>\n",
              "<tr>\n",
              "  <th>ma.L1</th>    <td>   -0.2839</td> <td>    0.074</td> <td>   -3.853</td> <td> 0.000</td> <td>   -0.428</td> <td>   -0.139</td>\n",
              "</tr>\n",
              "<tr>\n",
              "  <th>ma.L2</th>    <td>   -0.7616</td> <td>    0.031</td> <td>  -24.343</td> <td> 0.000</td> <td>   -0.823</td> <td>   -0.700</td>\n",
              "</tr>\n",
              "<tr>\n",
              "  <th>ma.L3</th>    <td>    0.0625</td> <td>    0.074</td> <td>    0.850</td> <td> 0.395</td> <td>   -0.082</td> <td>    0.207</td>\n",
              "</tr>\n",
              "<tr>\n",
              "  <th>ar.S.L12</th> <td>    0.6577</td> <td>    0.093</td> <td>    7.058</td> <td> 0.000</td> <td>    0.475</td> <td>    0.840</td>\n",
              "</tr>\n",
              "<tr>\n",
              "  <th>ar.S.L24</th> <td>   -0.2278</td> <td>    0.018</td> <td>  -12.415</td> <td> 0.000</td> <td>   -0.264</td> <td>   -0.192</td>\n",
              "</tr>\n",
              "<tr>\n",
              "  <th>ma.S.L12</th> <td>   -0.5363</td> <td>    0.099</td> <td>   -5.405</td> <td> 0.000</td> <td>   -0.731</td> <td>   -0.342</td>\n",
              "</tr>\n",
              "<tr>\n",
              "  <th>sigma2</th>   <td>  2.27e+05</td> <td> 4186.677</td> <td>   54.219</td> <td> 0.000</td> <td> 2.19e+05</td> <td> 2.35e+05</td>\n",
              "</tr>\n",
              "</table>\n",
              "<table class=\"simpletable\">\n",
              "<tr>\n",
              "  <th>Ljung-Box (L1) (Q):</th>     <td>0.58</td> <th>  Jarque-Bera (JB):  </th> <td>9058.73</td>\n",
              "</tr>\n",
              "<tr>\n",
              "  <th>Prob(Q):</th>                <td>0.45</td> <th>  Prob(JB):          </th>  <td>0.00</td>  \n",
              "</tr>\n",
              "<tr>\n",
              "  <th>Heteroskedasticity (H):</th> <td>0.23</td> <th>  Skew:              </th>  <td>-0.85</td> \n",
              "</tr>\n",
              "<tr>\n",
              "  <th>Prob(H) (two-sided):</th>    <td>0.00</td> <th>  Kurtosis:          </th>  <td>19.42</td> \n",
              "</tr>\n",
              "</table><br/><br/>Warnings:<br/>[1] Covariance matrix calculated using the outer product of gradients (complex-step)."
            ],
            "text/latex": "\\begin{center}\n\\begin{tabular}{lclc}\n\\toprule\n\\textbf{Dep. Variable:}          &                y                 & \\textbf{  No. Observations:  } &    800      \\\\\n\\textbf{Model:}                  & SARIMAX(3, 2, 3)x(2, 0, [1], 12) & \\textbf{  Log Likelihood     } & -6127.654   \\\\\n\\textbf{Date:}                   &         Mon, 02 Oct 2023         & \\textbf{  AIC                } & 12275.308   \\\\\n\\textbf{Time:}                   &             21:47:04             & \\textbf{  BIC                } & 12322.129   \\\\\n\\textbf{Sample:}                 &                0                 & \\textbf{  HQIC               } & 12293.297   \\\\\n\\textbf{}                        &               - 800              & \\textbf{                     } &             \\\\\n\\textbf{Covariance Type:}        &               opg                & \\textbf{                     } &             \\\\\n\\bottomrule\n\\end{tabular}\n\\begin{tabular}{lcccccc}\n                  & \\textbf{coef} & \\textbf{std err} & \\textbf{z} & \\textbf{P$> |$z$|$} & \\textbf{[0.025} & \\textbf{0.975]}  \\\\\n\\midrule\n\\textbf{ar.L1}    &      -0.5594  &        0.070     &    -8.018  &         0.000        &       -0.696    &       -0.423     \\\\\n\\textbf{ar.L2}    &       0.0761  &        0.064     &     1.182  &         0.237        &       -0.050    &        0.202     \\\\\n\\textbf{ar.L3}    &      -0.1870  &        0.016     &   -11.703  &         0.000        &       -0.218    &       -0.156     \\\\\n\\textbf{ma.L1}    &      -0.2839  &        0.074     &    -3.853  &         0.000        &       -0.428    &       -0.139     \\\\\n\\textbf{ma.L2}    &      -0.7616  &        0.031     &   -24.343  &         0.000        &       -0.823    &       -0.700     \\\\\n\\textbf{ma.L3}    &       0.0625  &        0.074     &     0.850  &         0.395        &       -0.082    &        0.207     \\\\\n\\textbf{ar.S.L12} &       0.6577  &        0.093     &     7.058  &         0.000        &        0.475    &        0.840     \\\\\n\\textbf{ar.S.L24} &      -0.2278  &        0.018     &   -12.415  &         0.000        &       -0.264    &       -0.192     \\\\\n\\textbf{ma.S.L12} &      -0.5363  &        0.099     &    -5.405  &         0.000        &       -0.731    &       -0.342     \\\\\n\\textbf{sigma2}   &     2.27e+05  &     4186.677     &    54.219  &         0.000        &     2.19e+05    &     2.35e+05     \\\\\n\\bottomrule\n\\end{tabular}\n\\begin{tabular}{lclc}\n\\textbf{Ljung-Box (L1) (Q):}     & 0.58 & \\textbf{  Jarque-Bera (JB):  } & 9058.73  \\\\\n\\textbf{Prob(Q):}                & 0.45 & \\textbf{  Prob(JB):          } &   0.00   \\\\\n\\textbf{Heteroskedasticity (H):} & 0.23 & \\textbf{  Skew:              } &  -0.85   \\\\\n\\textbf{Prob(H) (two-sided):}    & 0.00 & \\textbf{  Kurtosis:          } &  19.42   \\\\\n\\bottomrule\n\\end{tabular}\n%\\caption{SARIMAX Results}\n\\end{center}\n\nWarnings: \\newline\n [1] Covariance matrix calculated using the outer product of gradients (complex-step)."
          },
          "metadata": {},
          "execution_count": 9
        }
      ]
    },
    {
      "cell_type": "markdown",
      "source": [
        "### **Make predictions on the test set for 'close_SAR' and 'close_USD'**"
      ],
      "metadata": {
        "id": "j3pO67JUPn0r"
      }
    },
    {
      "cell_type": "code",
      "source": [
        "forecast_sar, conf_int_sar = autoarima_model_sar.predict(n_periods=len(test_data), return_conf_int=True)\n",
        "forecast_usd, conf_int_usd = autoarima_model_usd.predict(n_periods=len(test_data), return_conf_int=True)"
      ],
      "metadata": {
        "colab": {
          "base_uri": "https://localhost:8080/"
        },
        "id": "A7sKTyfJPwhp",
        "outputId": "fe6104d0-1c3c-4cb0-fbb8-0ccb58983f8a"
      },
      "execution_count": 10,
      "outputs": [
        {
          "output_type": "stream",
          "name": "stderr",
          "text": [
            "/usr/local/lib/python3.10/dist-packages/statsmodels/tsa/base/tsa_model.py:836: ValueWarning: No supported index is available. Prediction results will be given with an integer index beginning at `start`.\n",
            "  return get_prediction_index(\n",
            "/usr/local/lib/python3.10/dist-packages/statsmodels/tsa/base/tsa_model.py:836: FutureWarning: No supported index is available. In the next version, calling this method in a model without a supported index will result in an exception.\n",
            "  return get_prediction_index(\n",
            "/usr/local/lib/python3.10/dist-packages/statsmodels/tsa/base/tsa_model.py:836: ValueWarning: No supported index is available. Prediction results will be given with an integer index beginning at `start`.\n",
            "  return get_prediction_index(\n",
            "/usr/local/lib/python3.10/dist-packages/statsmodels/tsa/base/tsa_model.py:836: FutureWarning: No supported index is available. In the next version, calling this method in a model without a supported index will result in an exception.\n",
            "  return get_prediction_index(\n"
          ]
        }
      ]
    },
    {
      "cell_type": "markdown",
      "source": [
        "### **Print the Mean Absolute Error (MAE) for 'close_SAR' and 'close_USD'**"
      ],
      "metadata": {
        "id": "9RJaeE82P2iz"
      }
    },
    {
      "cell_type": "code",
      "source": [
        "mae_sar = mean_absolute_error(test_data['close_SAR'], forecast_sar)\n",
        "mae_usd = mean_absolute_error(test_data['close_USD'], forecast_usd)\n",
        "\n",
        "print(f\"\\nMean Absolute Error (MAE) for close_SAR: {mae_sar}\")\n",
        "print(f\"Mean Absolute Error (MAE) for close_USD: {mae_usd}\")"
      ],
      "metadata": {
        "colab": {
          "base_uri": "https://localhost:8080/"
        },
        "id": "KXvFn9FoP7px",
        "outputId": "2f7c82cf-6467-41bc-e107-25f3fb76dcd6"
      },
      "execution_count": 11,
      "outputs": [
        {
          "output_type": "stream",
          "name": "stdout",
          "text": [
            "\n",
            "Mean Absolute Error (MAE) for close_SAR: 22353.078505640897\n",
            "Mean Absolute Error (MAE) for close_USD: 3381.532338290212\n"
          ]
        }
      ]
    },
    {
      "cell_type": "markdown",
      "source": [
        "### **Visualize the forecasts and confidence intervals for 'close_SAR'**"
      ],
      "metadata": {
        "id": "3qgkupqbP_Jw"
      }
    },
    {
      "cell_type": "code",
      "source": [
        "plt.figure(figsize=(12, 6))\n",
        "plt.plot(train_data.index, train_data['close_SAR'], label='Training Data (close_SAR)', color='blue')\n",
        "plt.plot(test_data.index, test_data['close_SAR'], label='Test Data (close_SAR)', color='green')\n",
        "plt.plot(test_data.index, forecast_sar, label='Forecast (close_SAR)', color='red')\n",
        "plt.fill_between(test_data.index, conf_int_sar[:, 0], conf_int_sar[:, 1], color='pink', alpha=0.3, label='Confidence Interval (close_SAR)')\n",
        "plt.legend()\n",
        "plt.title('AutoARIMA Forecast for close_SAR')\n",
        "plt.xlabel('Date')\n",
        "plt.ylabel('close_SAR')\n",
        "plt.show()"
      ],
      "metadata": {
        "colab": {
          "base_uri": "https://localhost:8080/",
          "height": 564
        },
        "id": "JFLvJkj7QDMm",
        "outputId": "9e15ac74-5d22-4543-d29b-cbb6ddba5ad1"
      },
      "execution_count": 12,
      "outputs": [
        {
          "output_type": "display_data",
          "data": {
            "text/plain": [
              "<Figure size 1200x600 with 1 Axes>"
            ],
            "image/png": "[encoded data removed]"
          },
          "metadata": {}
        }
      ]
    },
    {
      "cell_type": "markdown",
      "source": [
        "### **Visualize the forecasts and confidence intervals for 'close_USD'**"
      ],
      "metadata": {
        "id": "X5_077eVQGK-"
      }
    },
    {
      "cell_type": "code",
      "source": [
        "plt.figure(figsize=(12, 6))\n",
        "plt.plot(train_data.index, train_data['close_USD'], label='Training Data (close_USD)', color='blue')\n",
        "plt.plot(test_data.index, test_data['close_USD'], label='Test Data (close_USD)', color='green')\n",
        "plt.plot(test_data.index, forecast_usd, label='Forecast (close_USD)', color='red')\n",
        "plt.fill_between(test_data.index, conf_int_usd[:, 0], conf_int_usd[:, 1], color='pink', alpha=0.3, label='Confidence Interval (close_USD)')\n",
        "plt.legend()\n",
        "plt.title('AutoARIMA Forecast for close_USD')\n",
        "plt.xlabel('Date')\n",
        "plt.ylabel('close_USD')\n",
        "plt.show()"
      ],
      "metadata": {
        "colab": {
          "base_uri": "https://localhost:8080/",
          "height": 564
        },
        "id": "HRHtgrqZQLyv",
        "outputId": "00201379-55ab-42a1-d8a6-6188fe1ed1f1"
      },
      "execution_count": 13,
      "outputs": [
        {
          "output_type": "display_data",
          "data": {
            "text/plain": [
              "<Figure size 1200x600 with 1 Axes>"
            ],
            "image/png": "[encoded data removed]"
          },
          "metadata": {}
        }
      ]
    }
  ]
}